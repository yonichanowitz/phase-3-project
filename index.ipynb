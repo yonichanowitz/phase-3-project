{
 "cells": [
  {
   "cell_type": "markdown",
   "metadata": {},
   "source": [
    "Yonaton chanowitz\n",
    "07/21/2022\n",
    "Data Science Flex\n",
    "Instructor: Morgan Jones"
   ]
  },
  {
   "cell_type": "markdown",
   "metadata": {},
   "source": [
    "Rainbow Six Siege is a highly competative first person shooter, where map knowledge, gadget usage, and operator loadout mean just as much as ability to shoot. Personally i don't have that high of a rank, nad wondered what would help me get an edge on the competition.\n",
    "\n",
    "using the:\n",
    "#### OSEMN \n",
    "method, \n",
    "let's find out which mixture of features leads to a win "
   ]
  },
  {
   "cell_type": "markdown",
   "metadata": {},
   "source": [
    "<font color='red'> The csv file included in this notebook is for demonstration purposes only. It is not the full file. running this notebook will not give you the total results without downloading the full set of files, which contains 20 csv files.  </font>\n",
    "\n",
    "the full data set can be downloaded from here: https://www.kaggle.com/datasets/maxcobra/rainbow-six-siege-s5-ranked-dataset?resource=download&select=datadump_s5-000.csv "
   ]
  },
  {
   "cell_type": "code",
   "execution_count": 1,
   "metadata": {},
   "outputs": [],
   "source": [
    "# import neccessay libraries\n",
    "\n",
    "import numpy as np\n",
    "import pandas as pd\n",
    "import matplotlib.pyplot as plt\n",
    "\n",
    "from sklearn.model_selection import train_test_split, cross_val_score\n",
    "from sklearn.ensemble import AdaBoostClassifier, GradientBoostingClassifier\n",
    "from sklearn.metrics import accuracy_score, f1_score, confusion_matrix, classification_report\n",
    "\n",
    "%matplotlib inline\n",
    "import seaborn as sns\n"
   ]
  },
  {
   "cell_type": "markdown",
   "metadata": {},
   "source": [
    "this data set is **HUGE**. i am going to run my models on about 2% of it, for computational speed"
   ]
  },
  {
   "cell_type": "code",
   "execution_count": 2,
   "metadata": {
    "scrolled": true
   },
   "outputs": [
    {
     "data": {
      "text/html": [
       "<div>\n",
       "<style scoped>\n",
       "    .dataframe tbody tr th:only-of-type {\n",
       "        vertical-align: middle;\n",
       "    }\n",
       "\n",
       "    .dataframe tbody tr th {\n",
       "        vertical-align: top;\n",
       "    }\n",
       "\n",
       "    .dataframe thead th {\n",
       "        text-align: right;\n",
       "    }\n",
       "</style>\n",
       "<table border=\"1\" class=\"dataframe\">\n",
       "  <thead>\n",
       "    <tr style=\"text-align: right;\">\n",
       "      <th></th>\n",
       "      <th>dateid</th>\n",
       "      <th>platform</th>\n",
       "      <th>gamemode</th>\n",
       "      <th>mapname</th>\n",
       "      <th>matchid</th>\n",
       "      <th>roundnumber</th>\n",
       "      <th>objectivelocation</th>\n",
       "      <th>winrole</th>\n",
       "      <th>endroundreason</th>\n",
       "      <th>roundduration</th>\n",
       "      <th>clearancelevel</th>\n",
       "      <th>skillrank</th>\n",
       "      <th>role</th>\n",
       "      <th>team</th>\n",
       "      <th>haswon</th>\n",
       "      <th>operator</th>\n",
       "      <th>nbkills</th>\n",
       "      <th>isdead</th>\n",
       "      <th>primaryweapon</th>\n",
       "      <th>primaryweapontype</th>\n",
       "      <th>primarysight</th>\n",
       "      <th>primarygrip</th>\n",
       "      <th>primaryunderbarrel</th>\n",
       "      <th>primarybarrel</th>\n",
       "      <th>secondaryweapon</th>\n",
       "      <th>secondaryweapontype</th>\n",
       "      <th>secondarysight</th>\n",
       "      <th>secondarygrip</th>\n",
       "      <th>secondaryunderbarrel</th>\n",
       "      <th>secondarybarrel</th>\n",
       "      <th>secondarygadget</th>\n",
       "    </tr>\n",
       "  </thead>\n",
       "  <tbody>\n",
       "    <tr>\n",
       "      <th>0</th>\n",
       "      <td>20170212</td>\n",
       "      <td>PC</td>\n",
       "      <td>HOSTAGE</td>\n",
       "      <td>CLUB_HOUSE</td>\n",
       "      <td>1522380841</td>\n",
       "      <td>1</td>\n",
       "      <td>STRIP_CLUB</td>\n",
       "      <td>Defender</td>\n",
       "      <td>AttackersKilledHostage</td>\n",
       "      <td>124</td>\n",
       "      <td>64</td>\n",
       "      <td>Gold</td>\n",
       "      <td>Defender</td>\n",
       "      <td>1</td>\n",
       "      <td>1</td>\n",
       "      <td>SWAT-CASTLE</td>\n",
       "      <td>0</td>\n",
       "      <td>0</td>\n",
       "      <td>UMP45</td>\n",
       "      <td>Submachine_Guns</td>\n",
       "      <td>RedDot</td>\n",
       "      <td>Vertical</td>\n",
       "      <td>None</td>\n",
       "      <td>Compensator</td>\n",
       "      <td>5.7_USG</td>\n",
       "      <td>Pistols</td>\n",
       "      <td>None</td>\n",
       "      <td>None</td>\n",
       "      <td>None</td>\n",
       "      <td>None</td>\n",
       "      <td>IMPACT_GRENADE</td>\n",
       "    </tr>\n",
       "    <tr>\n",
       "      <th>1</th>\n",
       "      <td>20170212</td>\n",
       "      <td>PC</td>\n",
       "      <td>HOSTAGE</td>\n",
       "      <td>CLUB_HOUSE</td>\n",
       "      <td>1522380841</td>\n",
       "      <td>4</td>\n",
       "      <td>CHURCH</td>\n",
       "      <td>Defender</td>\n",
       "      <td>AttackersEliminated</td>\n",
       "      <td>217</td>\n",
       "      <td>81</td>\n",
       "      <td>Gold</td>\n",
       "      <td>Defender</td>\n",
       "      <td>0</td>\n",
       "      <td>1</td>\n",
       "      <td>GSG9-JAGER</td>\n",
       "      <td>0</td>\n",
       "      <td>1</td>\n",
       "      <td>416-C_CARBINE</td>\n",
       "      <td>Assault_Rifles</td>\n",
       "      <td>RedDot</td>\n",
       "      <td>Vertical</td>\n",
       "      <td>Laser</td>\n",
       "      <td>Suppressor</td>\n",
       "      <td>P12</td>\n",
       "      <td>Pistols</td>\n",
       "      <td>None</td>\n",
       "      <td>None</td>\n",
       "      <td>Laser</td>\n",
       "      <td>Suppressor</td>\n",
       "      <td>DEPLOYABLE_SHIELD</td>\n",
       "    </tr>\n",
       "    <tr>\n",
       "      <th>2</th>\n",
       "      <td>20170212</td>\n",
       "      <td>PC</td>\n",
       "      <td>HOSTAGE</td>\n",
       "      <td>CLUB_HOUSE</td>\n",
       "      <td>1522380841</td>\n",
       "      <td>3</td>\n",
       "      <td>CHURCH</td>\n",
       "      <td>Defender</td>\n",
       "      <td>AttackersEliminated</td>\n",
       "      <td>160</td>\n",
       "      <td>150</td>\n",
       "      <td>Gold</td>\n",
       "      <td>Defender</td>\n",
       "      <td>1</td>\n",
       "      <td>1</td>\n",
       "      <td>JTF2-FROST</td>\n",
       "      <td>0</td>\n",
       "      <td>0</td>\n",
       "      <td>9mm_C1</td>\n",
       "      <td>Submachine_Guns</td>\n",
       "      <td>Reflex</td>\n",
       "      <td>None</td>\n",
       "      <td>None</td>\n",
       "      <td>None</td>\n",
       "      <td>MK1_9mm</td>\n",
       "      <td>Pistols</td>\n",
       "      <td>None</td>\n",
       "      <td>None</td>\n",
       "      <td>None</td>\n",
       "      <td>None</td>\n",
       "      <td>DEPLOYABLE_SHIELD</td>\n",
       "    </tr>\n",
       "    <tr>\n",
       "      <th>3</th>\n",
       "      <td>20170212</td>\n",
       "      <td>PC</td>\n",
       "      <td>HOSTAGE</td>\n",
       "      <td>CLUB_HOUSE</td>\n",
       "      <td>1522380841</td>\n",
       "      <td>4</td>\n",
       "      <td>CHURCH</td>\n",
       "      <td>Defender</td>\n",
       "      <td>AttackersEliminated</td>\n",
       "      <td>217</td>\n",
       "      <td>94</td>\n",
       "      <td>Gold</td>\n",
       "      <td>Defender</td>\n",
       "      <td>0</td>\n",
       "      <td>1</td>\n",
       "      <td>BOPE-CAVEIRA</td>\n",
       "      <td>3</td>\n",
       "      <td>0</td>\n",
       "      <td>M12</td>\n",
       "      <td>Submachine_Guns</td>\n",
       "      <td>RedDot</td>\n",
       "      <td>None</td>\n",
       "      <td>None</td>\n",
       "      <td>MuzzleBrake</td>\n",
       "      <td>PRB92</td>\n",
       "      <td>Pistols</td>\n",
       "      <td>None</td>\n",
       "      <td>None</td>\n",
       "      <td>None</td>\n",
       "      <td>None</td>\n",
       "      <td>IMPACT_GRENADE</td>\n",
       "    </tr>\n",
       "    <tr>\n",
       "      <th>4</th>\n",
       "      <td>20170212</td>\n",
       "      <td>PC</td>\n",
       "      <td>HOSTAGE</td>\n",
       "      <td>CLUB_HOUSE</td>\n",
       "      <td>1522380841</td>\n",
       "      <td>6</td>\n",
       "      <td>BEDROOM</td>\n",
       "      <td>Attacker</td>\n",
       "      <td>DefendersEliminated</td>\n",
       "      <td>143</td>\n",
       "      <td>81</td>\n",
       "      <td>Gold</td>\n",
       "      <td>Defender</td>\n",
       "      <td>0</td>\n",
       "      <td>0</td>\n",
       "      <td>GSG9-JAGER</td>\n",
       "      <td>0</td>\n",
       "      <td>1</td>\n",
       "      <td>416-C_CARBINE</td>\n",
       "      <td>Assault_Rifles</td>\n",
       "      <td>RedDot</td>\n",
       "      <td>Vertical</td>\n",
       "      <td>Laser</td>\n",
       "      <td>Suppressor</td>\n",
       "      <td>P12</td>\n",
       "      <td>Pistols</td>\n",
       "      <td>None</td>\n",
       "      <td>None</td>\n",
       "      <td>Laser</td>\n",
       "      <td>Suppressor</td>\n",
       "      <td>DEPLOYABLE_SHIELD</td>\n",
       "    </tr>\n",
       "  </tbody>\n",
       "</table>\n",
       "</div>"
      ],
      "text/plain": [
       "     dateid platform gamemode     mapname     matchid  roundnumber  \\\n",
       "0  20170212       PC  HOSTAGE  CLUB_HOUSE  1522380841            1   \n",
       "1  20170212       PC  HOSTAGE  CLUB_HOUSE  1522380841            4   \n",
       "2  20170212       PC  HOSTAGE  CLUB_HOUSE  1522380841            3   \n",
       "3  20170212       PC  HOSTAGE  CLUB_HOUSE  1522380841            4   \n",
       "4  20170212       PC  HOSTAGE  CLUB_HOUSE  1522380841            6   \n",
       "\n",
       "  objectivelocation   winrole          endroundreason  roundduration  \\\n",
       "0        STRIP_CLUB  Defender  AttackersKilledHostage            124   \n",
       "1            CHURCH  Defender     AttackersEliminated            217   \n",
       "2            CHURCH  Defender     AttackersEliminated            160   \n",
       "3            CHURCH  Defender     AttackersEliminated            217   \n",
       "4           BEDROOM  Attacker     DefendersEliminated            143   \n",
       "\n",
       "   clearancelevel skillrank      role  team  haswon      operator  nbkills  \\\n",
       "0              64      Gold  Defender     1       1   SWAT-CASTLE        0   \n",
       "1              81      Gold  Defender     0       1    GSG9-JAGER        0   \n",
       "2             150      Gold  Defender     1       1    JTF2-FROST        0   \n",
       "3              94      Gold  Defender     0       1  BOPE-CAVEIRA        3   \n",
       "4              81      Gold  Defender     0       0    GSG9-JAGER        0   \n",
       "\n",
       "   isdead  primaryweapon primaryweapontype primarysight primarygrip  \\\n",
       "0       0          UMP45   Submachine_Guns       RedDot    Vertical   \n",
       "1       1  416-C_CARBINE    Assault_Rifles       RedDot    Vertical   \n",
       "2       0         9mm_C1   Submachine_Guns       Reflex        None   \n",
       "3       0            M12   Submachine_Guns       RedDot        None   \n",
       "4       1  416-C_CARBINE    Assault_Rifles       RedDot    Vertical   \n",
       "\n",
       "  primaryunderbarrel primarybarrel secondaryweapon secondaryweapontype  \\\n",
       "0               None   Compensator         5.7_USG             Pistols   \n",
       "1              Laser    Suppressor             P12             Pistols   \n",
       "2               None          None         MK1_9mm             Pistols   \n",
       "3               None   MuzzleBrake           PRB92             Pistols   \n",
       "4              Laser    Suppressor             P12             Pistols   \n",
       "\n",
       "  secondarysight secondarygrip secondaryunderbarrel secondarybarrel  \\\n",
       "0           None          None                 None            None   \n",
       "1           None          None                Laser      Suppressor   \n",
       "2           None          None                 None            None   \n",
       "3           None          None                 None            None   \n",
       "4           None          None                Laser      Suppressor   \n",
       "\n",
       "     secondarygadget  \n",
       "0     IMPACT_GRENADE  \n",
       "1  DEPLOYABLE_SHIELD  \n",
       "2  DEPLOYABLE_SHIELD  \n",
       "3     IMPACT_GRENADE  \n",
       "4  DEPLOYABLE_SHIELD  "
      ]
     },
     "execution_count": 2,
     "metadata": {},
     "output_type": "execute_result"
    }
   ],
   "source": [
    "#i want to read all the columns\n",
    "pd.set_option('display.max_columns', None)\n",
    "\n",
    "# make a pandas dataframe using only 100,000 rows. \n",
    "first_set = pd.read_csv('r6s_data/datadump_s5-000.csv',  nrows=100000)\n",
    "first_set.head(5)"
   ]
  },
  {
   "cell_type": "code",
   "execution_count": 3,
   "metadata": {},
   "outputs": [
    {
     "name": "stdout",
     "output_type": "stream",
     "text": [
      "<class 'pandas.core.frame.DataFrame'>\n",
      "RangeIndex: 100000 entries, 0 to 99999\n",
      "Data columns (total 31 columns):\n",
      " #   Column                Non-Null Count   Dtype \n",
      "---  ------                --------------   ----- \n",
      " 0   dateid                100000 non-null  int64 \n",
      " 1   platform              100000 non-null  object\n",
      " 2   gamemode              100000 non-null  object\n",
      " 3   mapname               100000 non-null  object\n",
      " 4   matchid               100000 non-null  int64 \n",
      " 5   roundnumber           100000 non-null  int64 \n",
      " 6   objectivelocation     100000 non-null  object\n",
      " 7   winrole               100000 non-null  object\n",
      " 8   endroundreason        100000 non-null  object\n",
      " 9   roundduration         100000 non-null  int64 \n",
      " 10  clearancelevel        100000 non-null  int64 \n",
      " 11  skillrank             100000 non-null  object\n",
      " 12  role                  100000 non-null  object\n",
      " 13  team                  100000 non-null  int64 \n",
      " 14  haswon                100000 non-null  int64 \n",
      " 15  operator              100000 non-null  object\n",
      " 16  nbkills               100000 non-null  int64 \n",
      " 17  isdead                100000 non-null  int64 \n",
      " 18  primaryweapon         100000 non-null  object\n",
      " 19  primaryweapontype     100000 non-null  object\n",
      " 20  primarysight          100000 non-null  object\n",
      " 21  primarygrip           100000 non-null  object\n",
      " 22  primaryunderbarrel    100000 non-null  object\n",
      " 23  primarybarrel         100000 non-null  object\n",
      " 24  secondaryweapon       100000 non-null  object\n",
      " 25  secondaryweapontype   100000 non-null  object\n",
      " 26  secondarysight        100000 non-null  object\n",
      " 27  secondarygrip         100000 non-null  object\n",
      " 28  secondaryunderbarrel  100000 non-null  object\n",
      " 29  secondarybarrel       100000 non-null  object\n",
      " 30  secondarygadget       100000 non-null  object\n",
      "dtypes: int64(9), object(22)\n",
      "memory usage: 23.7+ MB\n"
     ]
    }
   ],
   "source": [
    "# look at the column names and data types\n",
    "first_set.info()"
   ]
  },
  {
   "cell_type": "code",
   "execution_count": 4,
   "metadata": {},
   "outputs": [
    {
     "data": {
      "text/plain": [
       "array([1, 0], dtype=int64)"
      ]
     },
     "execution_count": 4,
     "metadata": {},
     "output_type": "execute_result"
    }
   ],
   "source": [
    "# this is our target variable we will classify for\n",
    "first_set['haswon'].unique()"
   ]
  },
  {
   "cell_type": "markdown",
   "metadata": {},
   "source": [
    "# data cleaning\n",
    "1) we need to filter the DB to only `'gamemode' == 'BOMB'`, because in competitive play, only bomb is used\n",
    "\n",
    "2) 'dateid' is useless, \n",
    "'roundduration', 'endroundreason', 'clearancelevel' and 'skillrank' are outcomes of wins, and will drop them\n",
    "\n",
    "2a) 'haswon' is our target variable\n",
    "\n",
    "3) ALL the variables here are categorical. need to use sklearn `OneHotEncoder`, which also means there is no need to scale the variables"
   ]
  },
  {
   "cell_type": "code",
   "execution_count": 5,
   "metadata": {},
   "outputs": [],
   "source": [
    "only_bomb = first_set.loc[first_set['gamemode'] == 'BOMB']"
   ]
  },
  {
   "cell_type": "code",
   "execution_count": 6,
   "metadata": {},
   "outputs": [],
   "source": [
    "# make a seperate dataframe with dummies just to generate a seaborn heatmap\n",
    "\n",
    "# filtered = only_bomb.drop(['matchid', 'dateid', 'roundduration', 'endroundreason', 'clearancelevel', 'skillrank'], axis=1)\n",
    "# dummy_bomb = pd.get_dummies(filtered)\n",
    "# plt.figure(figsize=(10, 10))\n",
    "# sns.heatmap(dummy_bomb.corr())"
   ]
  },
  {
   "cell_type": "markdown",
   "metadata": {},
   "source": [
    "there truly is 0 correlation. this will be difficult to work with"
   ]
  },
  {
   "cell_type": "code",
   "execution_count": 7,
   "metadata": {},
   "outputs": [],
   "source": [
    "#train test split, for later cross validation\n",
    "y = only_bomb['haswon']\n",
    "x = only_bomb.drop(['haswon', 'matchid', 'dateid', 'roundduration', 'endroundreason', 'clearancelevel', 'skillrank'], axis=1)\n",
    "\n",
    "x_train, x_test, y_train, y_test = train_test_split(x, y, test_size=0.5, random_state=42)"
   ]
  },
  {
   "cell_type": "code",
   "execution_count": 12,
   "metadata": {},
   "outputs": [],
   "source": [
    "# one hot encoding test and training sets\n",
    "from sklearn.preprocessing import OneHotEncoder\n",
    "ohe = OneHotEncoder(handle_unknown='ignore')\n",
    "\n",
    "ohe.fit(x_train)\n",
    "x_train_ohe = ohe.transform(x_train).toarray()\n",
    "x_test_ohe = ohe.transform(x_test).toarray()\n",
    "\n",
    "# Creating this DataFrame to show the result of the ohe, and plotting\n",
    "ohe_train = pd.DataFrame(x_train_ohe, columns=ohe.get_feature_names_out(x_train.columns))"
   ]
  },
  {
   "cell_type": "code",
   "execution_count": 13,
   "metadata": {},
   "outputs": [
    {
     "data": {
      "text/html": [
       "<style>#sk-container-id-1 {color: black;background-color: white;}#sk-container-id-1 pre{padding: 0;}#sk-container-id-1 div.sk-toggleable {background-color: white;}#sk-container-id-1 label.sk-toggleable__label {cursor: pointer;display: block;width: 100%;margin-bottom: 0;padding: 0.3em;box-sizing: border-box;text-align: center;}#sk-container-id-1 label.sk-toggleable__label-arrow:before {content: \"▸\";float: left;margin-right: 0.25em;color: #696969;}#sk-container-id-1 label.sk-toggleable__label-arrow:hover:before {color: black;}#sk-container-id-1 div.sk-estimator:hover label.sk-toggleable__label-arrow:before {color: black;}#sk-container-id-1 div.sk-toggleable__content {max-height: 0;max-width: 0;overflow: hidden;text-align: left;background-color: #f0f8ff;}#sk-container-id-1 div.sk-toggleable__content pre {margin: 0.2em;color: black;border-radius: 0.25em;background-color: #f0f8ff;}#sk-container-id-1 input.sk-toggleable__control:checked~div.sk-toggleable__content {max-height: 200px;max-width: 100%;overflow: auto;}#sk-container-id-1 input.sk-toggleable__control:checked~label.sk-toggleable__label-arrow:before {content: \"▾\";}#sk-container-id-1 div.sk-estimator input.sk-toggleable__control:checked~label.sk-toggleable__label {background-color: #d4ebff;}#sk-container-id-1 div.sk-label input.sk-toggleable__control:checked~label.sk-toggleable__label {background-color: #d4ebff;}#sk-container-id-1 input.sk-hidden--visually {border: 0;clip: rect(1px 1px 1px 1px);clip: rect(1px, 1px, 1px, 1px);height: 1px;margin: -1px;overflow: hidden;padding: 0;position: absolute;width: 1px;}#sk-container-id-1 div.sk-estimator {font-family: monospace;background-color: #f0f8ff;border: 1px dotted black;border-radius: 0.25em;box-sizing: border-box;margin-bottom: 0.5em;}#sk-container-id-1 div.sk-estimator:hover {background-color: #d4ebff;}#sk-container-id-1 div.sk-parallel-item::after {content: \"\";width: 100%;border-bottom: 1px solid gray;flex-grow: 1;}#sk-container-id-1 div.sk-label:hover label.sk-toggleable__label {background-color: #d4ebff;}#sk-container-id-1 div.sk-serial::before {content: \"\";position: absolute;border-left: 1px solid gray;box-sizing: border-box;top: 0;bottom: 0;left: 50%;z-index: 0;}#sk-container-id-1 div.sk-serial {display: flex;flex-direction: column;align-items: center;background-color: white;padding-right: 0.2em;padding-left: 0.2em;position: relative;}#sk-container-id-1 div.sk-item {position: relative;z-index: 1;}#sk-container-id-1 div.sk-parallel {display: flex;align-items: stretch;justify-content: center;background-color: white;position: relative;}#sk-container-id-1 div.sk-item::before, #sk-container-id-1 div.sk-parallel-item::before {content: \"\";position: absolute;border-left: 1px solid gray;box-sizing: border-box;top: 0;bottom: 0;left: 50%;z-index: -1;}#sk-container-id-1 div.sk-parallel-item {display: flex;flex-direction: column;z-index: 1;position: relative;background-color: white;}#sk-container-id-1 div.sk-parallel-item:first-child::after {align-self: flex-end;width: 50%;}#sk-container-id-1 div.sk-parallel-item:last-child::after {align-self: flex-start;width: 50%;}#sk-container-id-1 div.sk-parallel-item:only-child::after {width: 0;}#sk-container-id-1 div.sk-dashed-wrapped {border: 1px dashed gray;margin: 0 0.4em 0.5em 0.4em;box-sizing: border-box;padding-bottom: 0.4em;background-color: white;}#sk-container-id-1 div.sk-label label {font-family: monospace;font-weight: bold;display: inline-block;line-height: 1.2em;}#sk-container-id-1 div.sk-label-container {text-align: center;}#sk-container-id-1 div.sk-container {/* jupyter's `normalize.less` sets `[hidden] { display: none; }` but bootstrap.min.css set `[hidden] { display: none !important; }` so we also need the `!important` here to be able to override the default hidden behavior on the sphinx rendered scikit-learn.org. See: https://github.com/scikit-learn/scikit-learn/issues/21755 */display: inline-block !important;position: relative;}#sk-container-id-1 div.sk-text-repr-fallback {display: none;}</style><div id=\"sk-container-id-1\" class=\"sk-top-container\"><div class=\"sk-text-repr-fallback\"><pre>DecisionTreeClassifier(criterion=&#x27;entropy&#x27;, max_leaf_nodes=7)</pre><b>In a Jupyter environment, please rerun this cell to show the HTML representation or trust the notebook. <br />On GitHub, the HTML representation is unable to render, please try loading this page with nbviewer.org.</b></div><div class=\"sk-container\" hidden><div class=\"sk-item\"><div class=\"sk-estimator sk-toggleable\"><input class=\"sk-toggleable__control sk-hidden--visually\" id=\"sk-estimator-id-1\" type=\"checkbox\" checked><label for=\"sk-estimator-id-1\" class=\"sk-toggleable__label sk-toggleable__label-arrow\">DecisionTreeClassifier</label><div class=\"sk-toggleable__content\"><pre>DecisionTreeClassifier(criterion=&#x27;entropy&#x27;, max_leaf_nodes=7)</pre></div></div></div></div></div>"
      ],
      "text/plain": [
       "DecisionTreeClassifier(criterion='entropy', max_leaf_nodes=7)"
      ]
     },
     "execution_count": 13,
     "metadata": {},
     "output_type": "execute_result"
    }
   ],
   "source": [
    "# use decision tree classifier for first model. \n",
    "# i want several leaf nodes, and entropy, because i assume there will be many positive values\n",
    "from sklearn.tree import DecisionTreeClassifier\n",
    "\n",
    "clf = DecisionTreeClassifier(criterion='entropy', max_leaf_nodes=7)\n",
    "clf.fit(x_train_ohe, y_train)"
   ]
  },
  {
   "cell_type": "markdown",
   "metadata": {},
   "source": [
    "let's see how well the clf model did"
   ]
  },
  {
   "cell_type": "code",
   "execution_count": 14,
   "metadata": {},
   "outputs": [],
   "source": [
    "def prediction_scores(y_t, y_p):\n",
    "    print(f\"classification report {classification_report(y_t, y_p, output_dict=True)}\")\n",
    "    plt.figure(figsize=[8,8])\n",
    "    sns.heatmap(confusion_matrix(y_t, y_p), annot=True)"
   ]
  },
  {
   "cell_type": "code",
   "execution_count": 15,
   "metadata": {},
   "outputs": [
    {
     "name": "stdout",
     "output_type": "stream",
     "text": [
      "classification report {'0': {'precision': 0.6800632911392405, 'recall': 1.0, 'f1-score': 0.8095686569975513, 'support': 6447}, '1': {'precision': 1.0, 'recall': 0.5460939838371744, 'f1-score': 0.7064175781628109, 'support': 6682}, 'accuracy': 0.7689846903800747, 'macro avg': {'precision': 0.8400316455696202, 'recall': 0.7730469919185872, 'f1-score': 0.7579931175801811, 'support': 13129}, 'weighted avg': {'precision': 0.8428949682363229, 'recall': 0.7689846903800747, 'f1-score': 0.7570699511727561, 'support': 13129}}\n"
     ]
    },
    {
     "data": {
      "image/png": "[encoded data removed]",
      "text/plain": [
       "<Figure size 576x576 with 2 Axes>"
      ]
     },
     "metadata": {
      "needs_background": "light"
     },
     "output_type": "display_data"
    }
   ],
   "source": [
    "# get accuracy score, confusion matrix and classification report\n",
    "y_preds = clf.predict(x_test_ohe)\n",
    "\n",
    "prediction_scores(y_test, y_preds)"
   ]
  },
  {
   "cell_type": "markdown",
   "metadata": {},
   "source": [
    "that's pretty good. i wonder if i can do better"
   ]
  },
  {
   "cell_type": "code",
   "execution_count": 16,
   "metadata": {},
   "outputs": [
    {
     "data": {
      "text/html": [
       "<style>#sk-container-id-2 {color: black;background-color: white;}#sk-container-id-2 pre{padding: 0;}#sk-container-id-2 div.sk-toggleable {background-color: white;}#sk-container-id-2 label.sk-toggleable__label {cursor: pointer;display: block;width: 100%;margin-bottom: 0;padding: 0.3em;box-sizing: border-box;text-align: center;}#sk-container-id-2 label.sk-toggleable__label-arrow:before {content: \"▸\";float: left;margin-right: 0.25em;color: #696969;}#sk-container-id-2 label.sk-toggleable__label-arrow:hover:before {color: black;}#sk-container-id-2 div.sk-estimator:hover label.sk-toggleable__label-arrow:before {color: black;}#sk-container-id-2 div.sk-toggleable__content {max-height: 0;max-width: 0;overflow: hidden;text-align: left;background-color: #f0f8ff;}#sk-container-id-2 div.sk-toggleable__content pre {margin: 0.2em;color: black;border-radius: 0.25em;background-color: #f0f8ff;}#sk-container-id-2 input.sk-toggleable__control:checked~div.sk-toggleable__content {max-height: 200px;max-width: 100%;overflow: auto;}#sk-container-id-2 input.sk-toggleable__control:checked~label.sk-toggleable__label-arrow:before {content: \"▾\";}#sk-container-id-2 div.sk-estimator input.sk-toggleable__control:checked~label.sk-toggleable__label {background-color: #d4ebff;}#sk-container-id-2 div.sk-label input.sk-toggleable__control:checked~label.sk-toggleable__label {background-color: #d4ebff;}#sk-container-id-2 input.sk-hidden--visually {border: 0;clip: rect(1px 1px 1px 1px);clip: rect(1px, 1px, 1px, 1px);height: 1px;margin: -1px;overflow: hidden;padding: 0;position: absolute;width: 1px;}#sk-container-id-2 div.sk-estimator {font-family: monospace;background-color: #f0f8ff;border: 1px dotted black;border-radius: 0.25em;box-sizing: border-box;margin-bottom: 0.5em;}#sk-container-id-2 div.sk-estimator:hover {background-color: #d4ebff;}#sk-container-id-2 div.sk-parallel-item::after {content: \"\";width: 100%;border-bottom: 1px solid gray;flex-grow: 1;}#sk-container-id-2 div.sk-label:hover label.sk-toggleable__label {background-color: #d4ebff;}#sk-container-id-2 div.sk-serial::before {content: \"\";position: absolute;border-left: 1px solid gray;box-sizing: border-box;top: 0;bottom: 0;left: 50%;z-index: 0;}#sk-container-id-2 div.sk-serial {display: flex;flex-direction: column;align-items: center;background-color: white;padding-right: 0.2em;padding-left: 0.2em;position: relative;}#sk-container-id-2 div.sk-item {position: relative;z-index: 1;}#sk-container-id-2 div.sk-parallel {display: flex;align-items: stretch;justify-content: center;background-color: white;position: relative;}#sk-container-id-2 div.sk-item::before, #sk-container-id-2 div.sk-parallel-item::before {content: \"\";position: absolute;border-left: 1px solid gray;box-sizing: border-box;top: 0;bottom: 0;left: 50%;z-index: -1;}#sk-container-id-2 div.sk-parallel-item {display: flex;flex-direction: column;z-index: 1;position: relative;background-color: white;}#sk-container-id-2 div.sk-parallel-item:first-child::after {align-self: flex-end;width: 50%;}#sk-container-id-2 div.sk-parallel-item:last-child::after {align-self: flex-start;width: 50%;}#sk-container-id-2 div.sk-parallel-item:only-child::after {width: 0;}#sk-container-id-2 div.sk-dashed-wrapped {border: 1px dashed gray;margin: 0 0.4em 0.5em 0.4em;box-sizing: border-box;padding-bottom: 0.4em;background-color: white;}#sk-container-id-2 div.sk-label label {font-family: monospace;font-weight: bold;display: inline-block;line-height: 1.2em;}#sk-container-id-2 div.sk-label-container {text-align: center;}#sk-container-id-2 div.sk-container {/* jupyter's `normalize.less` sets `[hidden] { display: none; }` but bootstrap.min.css set `[hidden] { display: none !important; }` so we also need the `!important` here to be able to override the default hidden behavior on the sphinx rendered scikit-learn.org. See: https://github.com/scikit-learn/scikit-learn/issues/21755 */display: inline-block !important;position: relative;}#sk-container-id-2 div.sk-text-repr-fallback {display: none;}</style><div id=\"sk-container-id-2\" class=\"sk-top-container\"><div class=\"sk-text-repr-fallback\"><pre>GridSearchCV(cv=3, estimator=DecisionTreeClassifier(),\n",
       "             param_grid={&#x27;criterion&#x27;: [&#x27;gini&#x27;, &#x27;entropy&#x27;],\n",
       "                         &#x27;max_depth&#x27;: [1, 3, 5, 7],\n",
       "                         &#x27;min_samples_split&#x27;: [2, 4, 8, 16]})</pre><b>In a Jupyter environment, please rerun this cell to show the HTML representation or trust the notebook. <br />On GitHub, the HTML representation is unable to render, please try loading this page with nbviewer.org.</b></div><div class=\"sk-container\" hidden><div class=\"sk-item sk-dashed-wrapped\"><div class=\"sk-label-container\"><div class=\"sk-label sk-toggleable\"><input class=\"sk-toggleable__control sk-hidden--visually\" id=\"sk-estimator-id-2\" type=\"checkbox\" ><label for=\"sk-estimator-id-2\" class=\"sk-toggleable__label sk-toggleable__label-arrow\">GridSearchCV</label><div class=\"sk-toggleable__content\"><pre>GridSearchCV(cv=3, estimator=DecisionTreeClassifier(),\n",
       "             param_grid={&#x27;criterion&#x27;: [&#x27;gini&#x27;, &#x27;entropy&#x27;],\n",
       "                         &#x27;max_depth&#x27;: [1, 3, 5, 7],\n",
       "                         &#x27;min_samples_split&#x27;: [2, 4, 8, 16]})</pre></div></div></div><div class=\"sk-parallel\"><div class=\"sk-parallel-item\"><div class=\"sk-item\"><div class=\"sk-label-container\"><div class=\"sk-label sk-toggleable\"><input class=\"sk-toggleable__control sk-hidden--visually\" id=\"sk-estimator-id-3\" type=\"checkbox\" ><label for=\"sk-estimator-id-3\" class=\"sk-toggleable__label sk-toggleable__label-arrow\">estimator: DecisionTreeClassifier</label><div class=\"sk-toggleable__content\"><pre>DecisionTreeClassifier()</pre></div></div></div><div class=\"sk-serial\"><div class=\"sk-item\"><div class=\"sk-estimator sk-toggleable\"><input class=\"sk-toggleable__control sk-hidden--visually\" id=\"sk-estimator-id-4\" type=\"checkbox\" ><label for=\"sk-estimator-id-4\" class=\"sk-toggleable__label sk-toggleable__label-arrow\">DecisionTreeClassifier</label><div class=\"sk-toggleable__content\"><pre>DecisionTreeClassifier()</pre></div></div></div></div></div></div></div></div></div></div>"
      ],
      "text/plain": [
       "GridSearchCV(cv=3, estimator=DecisionTreeClassifier(),\n",
       "             param_grid={'criterion': ['gini', 'entropy'],\n",
       "                         'max_depth': [1, 3, 5, 7],\n",
       "                         'min_samples_split': [2, 4, 8, 16]})"
      ]
     },
     "execution_count": 16,
     "metadata": {},
     "output_type": "execute_result"
    }
   ],
   "source": [
    "# GridSearchCV\n",
    "# get the ideal set of parameters from what i hypothesisze are good options\n",
    "from sklearn.model_selection import GridSearchCV\n",
    "\n",
    "clf_grid = DecisionTreeClassifier()\n",
    "\n",
    "parameter_grid = {\n",
    "    'criterion': ['gini', 'entropy'],\n",
    "    'max_depth': [1, 3, 5, 7],\n",
    "    'min_samples_split': [2, 4, 8, 16]\n",
    "}\n",
    "\n",
    "grid_search_DTree = GridSearchCV(clf_grid, parameter_grid, cv=3)\n",
    "grid_search_DTree.fit(x_train_ohe, y_train)"
   ]
  },
  {
   "cell_type": "code",
   "execution_count": 17,
   "metadata": {},
   "outputs": [],
   "source": [
    "import joblib\n",
    "\n",
    "with open('clf_grid.pkl', 'wb') as clfpkl:\n",
    "    joblib.dump(grid_search_DTree, clfpkl)"
   ]
  },
  {
   "cell_type": "code",
   "execution_count": 18,
   "metadata": {},
   "outputs": [],
   "source": [
    "with open('clf_grid.pkl', 'rb') as clfpkl:\n",
    "    clf_cross = joblib.load(clfpkl)"
   ]
  },
  {
   "cell_type": "code",
   "execution_count": 19,
   "metadata": {},
   "outputs": [
    {
     "data": {
      "text/plain": [
       "{'criterion': 'gini', 'max_depth': 7, 'min_samples_split': 8}"
      ]
     },
     "execution_count": 19,
     "metadata": {},
     "output_type": "execute_result"
    }
   ],
   "source": [
    "clf_cross.best_params_"
   ]
  },
  {
   "cell_type": "markdown",
   "metadata": {},
   "source": [
    "the best parameters appear to be\n",
    "`{'criterion': 'gini', 'max_depth': 7, 'min_samples_split': 2}`"
   ]
  },
  {
   "cell_type": "code",
   "execution_count": 21,
   "metadata": {},
   "outputs": [],
   "source": [
    "clf_after_grid = DecisionTreeClassifier(criterion='gini', max_depth=7, min_samples_split=4)\n",
    "clf_after_grid.fit(x_train_ohe, y_train)\n",
    "\n",
    "after_grid_predict = clf_after_grid.predict(x_test_ohe)"
   ]
  },
  {
   "cell_type": "code",
   "execution_count": 22,
   "metadata": {},
   "outputs": [
    {
     "name": "stdout",
     "output_type": "stream",
     "text": [
      "classification report {'0': {'precision': 1.0, 'recall': 1.0, 'f1-score': 1.0, 'support': 6447}, '1': {'precision': 1.0, 'recall': 1.0, 'f1-score': 1.0, 'support': 6682}, 'accuracy': 1.0, 'macro avg': {'precision': 1.0, 'recall': 1.0, 'f1-score': 1.0, 'support': 13129}, 'weighted avg': {'precision': 1.0, 'recall': 1.0, 'f1-score': 1.0, 'support': 13129}}\n"
     ]
    },
    {
     "data": {
      "image/png": "[encoded data removed]",
      "text/plain": [
       "<Figure size 576x576 with 2 Axes>"
      ]
     },
     "metadata": {
      "needs_background": "light"
     },
     "output_type": "display_data"
    }
   ],
   "source": [
    "prediction_scores(y_test, after_grid_predict)"
   ]
  },
  {
   "cell_type": "markdown",
   "metadata": {},
   "source": [
    "that's TOO good. not correct, must be overfit"
   ]
  },
  {
   "cell_type": "markdown",
   "metadata": {},
   "source": [
    "the results of this 2018 data set, (which ubisoft knows about, and has since compensated for) is that being a defender is the biggest determining factor to winning more matches."
   ]
  },
  {
   "cell_type": "markdown",
   "metadata": {},
   "source": [
    "### Next model, KNN\n",
    "lets use GridSearchCV again\n"
   ]
  },
  {
   "cell_type": "code",
   "execution_count": 23,
   "metadata": {},
   "outputs": [
    {
     "data": {
      "text/html": [
       "<style>#sk-container-id-3 {color: black;background-color: white;}#sk-container-id-3 pre{padding: 0;}#sk-container-id-3 div.sk-toggleable {background-color: white;}#sk-container-id-3 label.sk-toggleable__label {cursor: pointer;display: block;width: 100%;margin-bottom: 0;padding: 0.3em;box-sizing: border-box;text-align: center;}#sk-container-id-3 label.sk-toggleable__label-arrow:before {content: \"▸\";float: left;margin-right: 0.25em;color: #696969;}#sk-container-id-3 label.sk-toggleable__label-arrow:hover:before {color: black;}#sk-container-id-3 div.sk-estimator:hover label.sk-toggleable__label-arrow:before {color: black;}#sk-container-id-3 div.sk-toggleable__content {max-height: 0;max-width: 0;overflow: hidden;text-align: left;background-color: #f0f8ff;}#sk-container-id-3 div.sk-toggleable__content pre {margin: 0.2em;color: black;border-radius: 0.25em;background-color: #f0f8ff;}#sk-container-id-3 input.sk-toggleable__control:checked~div.sk-toggleable__content {max-height: 200px;max-width: 100%;overflow: auto;}#sk-container-id-3 input.sk-toggleable__control:checked~label.sk-toggleable__label-arrow:before {content: \"▾\";}#sk-container-id-3 div.sk-estimator input.sk-toggleable__control:checked~label.sk-toggleable__label {background-color: #d4ebff;}#sk-container-id-3 div.sk-label input.sk-toggleable__control:checked~label.sk-toggleable__label {background-color: #d4ebff;}#sk-container-id-3 input.sk-hidden--visually {border: 0;clip: rect(1px 1px 1px 1px);clip: rect(1px, 1px, 1px, 1px);height: 1px;margin: -1px;overflow: hidden;padding: 0;position: absolute;width: 1px;}#sk-container-id-3 div.sk-estimator {font-family: monospace;background-color: #f0f8ff;border: 1px dotted black;border-radius: 0.25em;box-sizing: border-box;margin-bottom: 0.5em;}#sk-container-id-3 div.sk-estimator:hover {background-color: #d4ebff;}#sk-container-id-3 div.sk-parallel-item::after {content: \"\";width: 100%;border-bottom: 1px solid gray;flex-grow: 1;}#sk-container-id-3 div.sk-label:hover label.sk-toggleable__label {background-color: #d4ebff;}#sk-container-id-3 div.sk-serial::before {content: \"\";position: absolute;border-left: 1px solid gray;box-sizing: border-box;top: 0;bottom: 0;left: 50%;z-index: 0;}#sk-container-id-3 div.sk-serial {display: flex;flex-direction: column;align-items: center;background-color: white;padding-right: 0.2em;padding-left: 0.2em;position: relative;}#sk-container-id-3 div.sk-item {position: relative;z-index: 1;}#sk-container-id-3 div.sk-parallel {display: flex;align-items: stretch;justify-content: center;background-color: white;position: relative;}#sk-container-id-3 div.sk-item::before, #sk-container-id-3 div.sk-parallel-item::before {content: \"\";position: absolute;border-left: 1px solid gray;box-sizing: border-box;top: 0;bottom: 0;left: 50%;z-index: -1;}#sk-container-id-3 div.sk-parallel-item {display: flex;flex-direction: column;z-index: 1;position: relative;background-color: white;}#sk-container-id-3 div.sk-parallel-item:first-child::after {align-self: flex-end;width: 50%;}#sk-container-id-3 div.sk-parallel-item:last-child::after {align-self: flex-start;width: 50%;}#sk-container-id-3 div.sk-parallel-item:only-child::after {width: 0;}#sk-container-id-3 div.sk-dashed-wrapped {border: 1px dashed gray;margin: 0 0.4em 0.5em 0.4em;box-sizing: border-box;padding-bottom: 0.4em;background-color: white;}#sk-container-id-3 div.sk-label label {font-family: monospace;font-weight: bold;display: inline-block;line-height: 1.2em;}#sk-container-id-3 div.sk-label-container {text-align: center;}#sk-container-id-3 div.sk-container {/* jupyter's `normalize.less` sets `[hidden] { display: none; }` but bootstrap.min.css set `[hidden] { display: none !important; }` so we also need the `!important` here to be able to override the default hidden behavior on the sphinx rendered scikit-learn.org. See: https://github.com/scikit-learn/scikit-learn/issues/21755 */display: inline-block !important;position: relative;}#sk-container-id-3 div.sk-text-repr-fallback {display: none;}</style><div id=\"sk-container-id-3\" class=\"sk-top-container\"><div class=\"sk-text-repr-fallback\"><pre>KNeighborsClassifier(algorithm=&#x27;brute&#x27;, n_neighbors=3, weights=&#x27;distance&#x27;)</pre><b>In a Jupyter environment, please rerun this cell to show the HTML representation or trust the notebook. <br />On GitHub, the HTML representation is unable to render, please try loading this page with nbviewer.org.</b></div><div class=\"sk-container\" hidden><div class=\"sk-item\"><div class=\"sk-estimator sk-toggleable\"><input class=\"sk-toggleable__control sk-hidden--visually\" id=\"sk-estimator-id-5\" type=\"checkbox\" checked><label for=\"sk-estimator-id-5\" class=\"sk-toggleable__label sk-toggleable__label-arrow\">KNeighborsClassifier</label><div class=\"sk-toggleable__content\"><pre>KNeighborsClassifier(algorithm=&#x27;brute&#x27;, n_neighbors=3, weights=&#x27;distance&#x27;)</pre></div></div></div></div></div>"
      ],
      "text/plain": [
       "KNeighborsClassifier(algorithm='brute', n_neighbors=3, weights='distance')"
      ]
     },
     "execution_count": 23,
     "metadata": {},
     "output_type": "execute_result"
    }
   ],
   "source": [
    "#baseline knn model\n",
    "from sklearn.neighbors import KNeighborsClassifier\n",
    "\n",
    "# since i have so many 0 values (a sparse matrix) i have to use 'brute' method of weights, RAM heavy, but the only way i can\n",
    "# get anything useful out of KNN\n",
    "\n",
    "knn_baseline = KNeighborsClassifier(n_neighbors=3, weights='distance', algorithm='brute')\n",
    "\n",
    "knn_baseline.fit(x_train_ohe, y_train)"
   ]
  },
  {
   "cell_type": "code",
   "execution_count": 24,
   "metadata": {},
   "outputs": [],
   "source": [
    "# pickle\n",
    "\n",
    "with open('knn_base.pkl', 'wb') as knnpkl:\n",
    "    joblib.dump(knn_baseline, knnpkl)"
   ]
  },
  {
   "cell_type": "code",
   "execution_count": 25,
   "metadata": {},
   "outputs": [],
   "source": [
    "with open('knn_base.pkl', 'rb') as knnpkl:\n",
    "    knn_base = joblib.load(knnpkl)"
   ]
  },
  {
   "cell_type": "code",
   "execution_count": 27,
   "metadata": {},
   "outputs": [
    {
     "name": "stdout",
     "output_type": "stream",
     "text": [
      "classification report {'0': {'precision': 0.905783168170389, 'recall': 0.9498991779122072, 'f1-score': 0.9273167777104785, 'support': 6447}, '1': {'precision': 0.9492776381909548, 'recall': 0.9046692607003891, 'f1-score': 0.9264367816091954, 'support': 6682}, 'accuracy': 0.9268794272221799, 'macro avg': {'precision': 0.9275304031806719, 'recall': 0.9272842193062982, 'f1-score': 0.926876779659837, 'support': 13129}, 'weighted avg': {'precision': 0.9279196636138668, 'recall': 0.9268794272221799, 'f1-score': 0.9268689039997028, 'support': 13129}}\n"
     ]
    },
    {
     "data": {
      "image/png": "[encoded data removed]",
      "text/plain": [
       "<Figure size 576x576 with 2 Axes>"
      ]
     },
     "metadata": {
      "needs_background": "light"
     },
     "output_type": "display_data"
    }
   ],
   "source": [
    "knn_predict = knn_base.predict(x_test_ohe)\n",
    "\n",
    "prediction_scores(y_test, knn_predict)"
   ]
  },
  {
   "cell_type": "markdown",
   "metadata": {},
   "source": [
    "similar overfitting. going to try `GridSearch` on this model, just for consistency"
   ]
  },
  {
   "cell_type": "code",
   "execution_count": 28,
   "metadata": {},
   "outputs": [
    {
     "data": {
      "text/html": [
       "<style>#sk-container-id-4 {color: black;background-color: white;}#sk-container-id-4 pre{padding: 0;}#sk-container-id-4 div.sk-toggleable {background-color: white;}#sk-container-id-4 label.sk-toggleable__label {cursor: pointer;display: block;width: 100%;margin-bottom: 0;padding: 0.3em;box-sizing: border-box;text-align: center;}#sk-container-id-4 label.sk-toggleable__label-arrow:before {content: \"▸\";float: left;margin-right: 0.25em;color: #696969;}#sk-container-id-4 label.sk-toggleable__label-arrow:hover:before {color: black;}#sk-container-id-4 div.sk-estimator:hover label.sk-toggleable__label-arrow:before {color: black;}#sk-container-id-4 div.sk-toggleable__content {max-height: 0;max-width: 0;overflow: hidden;text-align: left;background-color: #f0f8ff;}#sk-container-id-4 div.sk-toggleable__content pre {margin: 0.2em;color: black;border-radius: 0.25em;background-color: #f0f8ff;}#sk-container-id-4 input.sk-toggleable__control:checked~div.sk-toggleable__content {max-height: 200px;max-width: 100%;overflow: auto;}#sk-container-id-4 input.sk-toggleable__control:checked~label.sk-toggleable__label-arrow:before {content: \"▾\";}#sk-container-id-4 div.sk-estimator input.sk-toggleable__control:checked~label.sk-toggleable__label {background-color: #d4ebff;}#sk-container-id-4 div.sk-label input.sk-toggleable__control:checked~label.sk-toggleable__label {background-color: #d4ebff;}#sk-container-id-4 input.sk-hidden--visually {border: 0;clip: rect(1px 1px 1px 1px);clip: rect(1px, 1px, 1px, 1px);height: 1px;margin: -1px;overflow: hidden;padding: 0;position: absolute;width: 1px;}#sk-container-id-4 div.sk-estimator {font-family: monospace;background-color: #f0f8ff;border: 1px dotted black;border-radius: 0.25em;box-sizing: border-box;margin-bottom: 0.5em;}#sk-container-id-4 div.sk-estimator:hover {background-color: #d4ebff;}#sk-container-id-4 div.sk-parallel-item::after {content: \"\";width: 100%;border-bottom: 1px solid gray;flex-grow: 1;}#sk-container-id-4 div.sk-label:hover label.sk-toggleable__label {background-color: #d4ebff;}#sk-container-id-4 div.sk-serial::before {content: \"\";position: absolute;border-left: 1px solid gray;box-sizing: border-box;top: 0;bottom: 0;left: 50%;z-index: 0;}#sk-container-id-4 div.sk-serial {display: flex;flex-direction: column;align-items: center;background-color: white;padding-right: 0.2em;padding-left: 0.2em;position: relative;}#sk-container-id-4 div.sk-item {position: relative;z-index: 1;}#sk-container-id-4 div.sk-parallel {display: flex;align-items: stretch;justify-content: center;background-color: white;position: relative;}#sk-container-id-4 div.sk-item::before, #sk-container-id-4 div.sk-parallel-item::before {content: \"\";position: absolute;border-left: 1px solid gray;box-sizing: border-box;top: 0;bottom: 0;left: 50%;z-index: -1;}#sk-container-id-4 div.sk-parallel-item {display: flex;flex-direction: column;z-index: 1;position: relative;background-color: white;}#sk-container-id-4 div.sk-parallel-item:first-child::after {align-self: flex-end;width: 50%;}#sk-container-id-4 div.sk-parallel-item:last-child::after {align-self: flex-start;width: 50%;}#sk-container-id-4 div.sk-parallel-item:only-child::after {width: 0;}#sk-container-id-4 div.sk-dashed-wrapped {border: 1px dashed gray;margin: 0 0.4em 0.5em 0.4em;box-sizing: border-box;padding-bottom: 0.4em;background-color: white;}#sk-container-id-4 div.sk-label label {font-family: monospace;font-weight: bold;display: inline-block;line-height: 1.2em;}#sk-container-id-4 div.sk-label-container {text-align: center;}#sk-container-id-4 div.sk-container {/* jupyter's `normalize.less` sets `[hidden] { display: none; }` but bootstrap.min.css set `[hidden] { display: none !important; }` so we also need the `!important` here to be able to override the default hidden behavior on the sphinx rendered scikit-learn.org. See: https://github.com/scikit-learn/scikit-learn/issues/21755 */display: inline-block !important;position: relative;}#sk-container-id-4 div.sk-text-repr-fallback {display: none;}</style><div id=\"sk-container-id-4\" class=\"sk-top-container\"><div class=\"sk-text-repr-fallback\"><pre>GridSearchCV(cv=3, estimator=KNeighborsClassifier(),\n",
       "             param_grid={&#x27;algorithm&#x27;: [&#x27;ball_tree&#x27;, &#x27;kd_tree&#x27;],\n",
       "                         &#x27;n_neighbors&#x27;: [3, 5, 7], &#x27;p&#x27;: [1, 2]})</pre><b>In a Jupyter environment, please rerun this cell to show the HTML representation or trust the notebook. <br />On GitHub, the HTML representation is unable to render, please try loading this page with nbviewer.org.</b></div><div class=\"sk-container\" hidden><div class=\"sk-item sk-dashed-wrapped\"><div class=\"sk-label-container\"><div class=\"sk-label sk-toggleable\"><input class=\"sk-toggleable__control sk-hidden--visually\" id=\"sk-estimator-id-6\" type=\"checkbox\" ><label for=\"sk-estimator-id-6\" class=\"sk-toggleable__label sk-toggleable__label-arrow\">GridSearchCV</label><div class=\"sk-toggleable__content\"><pre>GridSearchCV(cv=3, estimator=KNeighborsClassifier(),\n",
       "             param_grid={&#x27;algorithm&#x27;: [&#x27;ball_tree&#x27;, &#x27;kd_tree&#x27;],\n",
       "                         &#x27;n_neighbors&#x27;: [3, 5, 7], &#x27;p&#x27;: [1, 2]})</pre></div></div></div><div class=\"sk-parallel\"><div class=\"sk-parallel-item\"><div class=\"sk-item\"><div class=\"sk-label-container\"><div class=\"sk-label sk-toggleable\"><input class=\"sk-toggleable__control sk-hidden--visually\" id=\"sk-estimator-id-7\" type=\"checkbox\" ><label for=\"sk-estimator-id-7\" class=\"sk-toggleable__label sk-toggleable__label-arrow\">estimator: KNeighborsClassifier</label><div class=\"sk-toggleable__content\"><pre>KNeighborsClassifier()</pre></div></div></div><div class=\"sk-serial\"><div class=\"sk-item\"><div class=\"sk-estimator sk-toggleable\"><input class=\"sk-toggleable__control sk-hidden--visually\" id=\"sk-estimator-id-8\" type=\"checkbox\" ><label for=\"sk-estimator-id-8\" class=\"sk-toggleable__label sk-toggleable__label-arrow\">KNeighborsClassifier</label><div class=\"sk-toggleable__content\"><pre>KNeighborsClassifier()</pre></div></div></div></div></div></div></div></div></div></div>"
      ],
      "text/plain": [
       "GridSearchCV(cv=3, estimator=KNeighborsClassifier(),\n",
       "             param_grid={'algorithm': ['ball_tree', 'kd_tree'],\n",
       "                         'n_neighbors': [3, 5, 7], 'p': [1, 2]})"
      ]
     },
     "execution_count": 28,
     "metadata": {},
     "output_type": "execute_result"
    }
   ],
   "source": [
    "# make a KNN model with gridsearch to get best parameters\n",
    "knn_params = {\n",
    "    'n_neighbors': [3, 5, 7],\n",
    "    'algorithm': ['ball_tree', 'kd_tree'],\n",
    "    'p':[1, 2]\n",
    "}\n",
    "\n",
    "knn = KNeighborsClassifier()\n",
    "\n",
    "grid_search_knn = GridSearchCV(knn, knn_params, cv=3)\n",
    "grid_search_knn.fit(x_train_ohe, y_train)"
   ]
  },
  {
   "cell_type": "code",
   "execution_count": 30,
   "metadata": {},
   "outputs": [],
   "source": [
    "with open('knn_grid.pkl', 'wb') as knnpkl:\n",
    "    joblib.dump(grid_search_knn, knnpkl)"
   ]
  },
  {
   "cell_type": "code",
   "execution_count": 31,
   "metadata": {},
   "outputs": [],
   "source": [
    "with open('clf_grid.pkl', 'rb') as knnpkl:\n",
    "    knn_grid = joblib.load(knnpkl)"
   ]
  },
  {
   "cell_type": "code",
   "execution_count": 32,
   "metadata": {},
   "outputs": [
    {
     "data": {
      "text/plain": [
       "{'criterion': 'gini', 'max_depth': 7, 'min_samples_split': 8}"
      ]
     },
     "execution_count": 32,
     "metadata": {},
     "output_type": "execute_result"
    }
   ],
   "source": [
    "knn_grid.best_params_"
   ]
  },
  {
   "cell_type": "markdown",
   "metadata": {},
   "source": [
    "Random Forest model\n",
    "\n",
    "using RandomForest to get the best of both worlds"
   ]
  },
  {
   "cell_type": "code",
   "execution_count": 33,
   "metadata": {},
   "outputs": [],
   "source": [
    "# RandomForest and Pipeline, because i want to refactor my final model into a pipeline\n",
    "# hopefully send it to some other players :->\n",
    "from sklearn.ensemble import RandomForestClassifier\n",
    "from sklearn.pipeline import Pipeline\n",
    "\n",
    "random_forest_one = RandomForestClassifier(random_state=123)\n",
    "random_pipe = Pipeline([('RF', RandomForestClassifier(random_state=123))])"
   ]
  },
  {
   "cell_type": "code",
   "execution_count": 34,
   "metadata": {},
   "outputs": [],
   "source": [
    "go strainght to gridsearch with the random forest\n",
    "grid = [{'RF__max_depth': [4, 5, 6], \n",
    "         'RF__min_samples_split': [2, 5], \n",
    "         'RF__min_samples_leaf': [1, 3, 5]}]\n",
    "\n",
    "grid_forest = GridSearchCV(estimator=random_pipe, param_grid=grid, scoring='accuracy', cv=5)"
   ]
  },
  {
   "cell_type": "code",
   "execution_count": 35,
   "metadata": {},
   "outputs": [
    {
     "data": {
      "text/plain": [
       "0.7743925660751009"
      ]
     },
     "execution_count": 35,
     "metadata": {},
     "output_type": "execute_result"
    }
   ],
   "source": [
    "grid_forest.fit(x_train_ohe, y_train)\n",
    "grid_forest.score(x_test_ohe, y_test)"
   ]
  },
  {
   "cell_type": "code",
   "execution_count": 36,
   "metadata": {},
   "outputs": [
    {
     "data": {
      "text/plain": [
       "{'RF__max_depth': 6, 'RF__min_samples_leaf': 1, 'RF__min_samples_split': 2}"
      ]
     },
     "execution_count": 36,
     "metadata": {},
     "output_type": "execute_result"
    }
   ],
   "source": [
    "grid_forest.best_params_"
   ]
  },
  {
   "cell_type": "markdown",
   "metadata": {},
   "source": [
    "{'RF__max_depth': 6, 'RF__min_samples_leaf': 1, 'RF__min_samples_split': 2}"
   ]
  },
  {
   "cell_type": "code",
   "execution_count": 37,
   "metadata": {},
   "outputs": [],
   "source": [
    "final_forest = RandomForestClassifier(max_depth=6, min_samples_leaf=1, min_samples_split=2)"
   ]
  },
  {
   "cell_type": "code",
   "execution_count": 38,
   "metadata": {},
   "outputs": [
    {
     "data": {
      "text/html": [
       "<style>#sk-container-id-5 {color: black;background-color: white;}#sk-container-id-5 pre{padding: 0;}#sk-container-id-5 div.sk-toggleable {background-color: white;}#sk-container-id-5 label.sk-toggleable__label {cursor: pointer;display: block;width: 100%;margin-bottom: 0;padding: 0.3em;box-sizing: border-box;text-align: center;}#sk-container-id-5 label.sk-toggleable__label-arrow:before {content: \"▸\";float: left;margin-right: 0.25em;color: #696969;}#sk-container-id-5 label.sk-toggleable__label-arrow:hover:before {color: black;}#sk-container-id-5 div.sk-estimator:hover label.sk-toggleable__label-arrow:before {color: black;}#sk-container-id-5 div.sk-toggleable__content {max-height: 0;max-width: 0;overflow: hidden;text-align: left;background-color: #f0f8ff;}#sk-container-id-5 div.sk-toggleable__content pre {margin: 0.2em;color: black;border-radius: 0.25em;background-color: #f0f8ff;}#sk-container-id-5 input.sk-toggleable__control:checked~div.sk-toggleable__content {max-height: 200px;max-width: 100%;overflow: auto;}#sk-container-id-5 input.sk-toggleable__control:checked~label.sk-toggleable__label-arrow:before {content: \"▾\";}#sk-container-id-5 div.sk-estimator input.sk-toggleable__control:checked~label.sk-toggleable__label {background-color: #d4ebff;}#sk-container-id-5 div.sk-label input.sk-toggleable__control:checked~label.sk-toggleable__label {background-color: #d4ebff;}#sk-container-id-5 input.sk-hidden--visually {border: 0;clip: rect(1px 1px 1px 1px);clip: rect(1px, 1px, 1px, 1px);height: 1px;margin: -1px;overflow: hidden;padding: 0;position: absolute;width: 1px;}#sk-container-id-5 div.sk-estimator {font-family: monospace;background-color: #f0f8ff;border: 1px dotted black;border-radius: 0.25em;box-sizing: border-box;margin-bottom: 0.5em;}#sk-container-id-5 div.sk-estimator:hover {background-color: #d4ebff;}#sk-container-id-5 div.sk-parallel-item::after {content: \"\";width: 100%;border-bottom: 1px solid gray;flex-grow: 1;}#sk-container-id-5 div.sk-label:hover label.sk-toggleable__label {background-color: #d4ebff;}#sk-container-id-5 div.sk-serial::before {content: \"\";position: absolute;border-left: 1px solid gray;box-sizing: border-box;top: 0;bottom: 0;left: 50%;z-index: 0;}#sk-container-id-5 div.sk-serial {display: flex;flex-direction: column;align-items: center;background-color: white;padding-right: 0.2em;padding-left: 0.2em;position: relative;}#sk-container-id-5 div.sk-item {position: relative;z-index: 1;}#sk-container-id-5 div.sk-parallel {display: flex;align-items: stretch;justify-content: center;background-color: white;position: relative;}#sk-container-id-5 div.sk-item::before, #sk-container-id-5 div.sk-parallel-item::before {content: \"\";position: absolute;border-left: 1px solid gray;box-sizing: border-box;top: 0;bottom: 0;left: 50%;z-index: -1;}#sk-container-id-5 div.sk-parallel-item {display: flex;flex-direction: column;z-index: 1;position: relative;background-color: white;}#sk-container-id-5 div.sk-parallel-item:first-child::after {align-self: flex-end;width: 50%;}#sk-container-id-5 div.sk-parallel-item:last-child::after {align-self: flex-start;width: 50%;}#sk-container-id-5 div.sk-parallel-item:only-child::after {width: 0;}#sk-container-id-5 div.sk-dashed-wrapped {border: 1px dashed gray;margin: 0 0.4em 0.5em 0.4em;box-sizing: border-box;padding-bottom: 0.4em;background-color: white;}#sk-container-id-5 div.sk-label label {font-family: monospace;font-weight: bold;display: inline-block;line-height: 1.2em;}#sk-container-id-5 div.sk-label-container {text-align: center;}#sk-container-id-5 div.sk-container {/* jupyter's `normalize.less` sets `[hidden] { display: none; }` but bootstrap.min.css set `[hidden] { display: none !important; }` so we also need the `!important` here to be able to override the default hidden behavior on the sphinx rendered scikit-learn.org. See: https://github.com/scikit-learn/scikit-learn/issues/21755 */display: inline-block !important;position: relative;}#sk-container-id-5 div.sk-text-repr-fallback {display: none;}</style><div id=\"sk-container-id-5\" class=\"sk-top-container\"><div class=\"sk-text-repr-fallback\"><pre>RandomForestClassifier(max_depth=6)</pre><b>In a Jupyter environment, please rerun this cell to show the HTML representation or trust the notebook. <br />On GitHub, the HTML representation is unable to render, please try loading this page with nbviewer.org.</b></div><div class=\"sk-container\" hidden><div class=\"sk-item\"><div class=\"sk-estimator sk-toggleable\"><input class=\"sk-toggleable__control sk-hidden--visually\" id=\"sk-estimator-id-9\" type=\"checkbox\" checked><label for=\"sk-estimator-id-9\" class=\"sk-toggleable__label sk-toggleable__label-arrow\">RandomForestClassifier</label><div class=\"sk-toggleable__content\"><pre>RandomForestClassifier(max_depth=6)</pre></div></div></div></div></div>"
      ],
      "text/plain": [
       "RandomForestClassifier(max_depth=6)"
      ]
     },
     "execution_count": 38,
     "metadata": {},
     "output_type": "execute_result"
    }
   ],
   "source": [
    "final_forest.fit(x_train_ohe, y_train)"
   ]
  },
  {
   "cell_type": "code",
   "execution_count": 39,
   "metadata": {},
   "outputs": [],
   "source": [
    "with open('forest_final.pkl', 'wb') as fopkl:\n",
    "    joblib.dump(final_forest, fopkl)"
   ]
  },
  {
   "cell_type": "code",
   "execution_count": 40,
   "metadata": {},
   "outputs": [],
   "source": [
    "with open('forest_final.pkl', 'rb') as fopkl:\n",
    "    fo_fin = joblib.load('forest_final.pkl')"
   ]
  },
  {
   "cell_type": "code",
   "execution_count": 42,
   "metadata": {},
   "outputs": [],
   "source": [
    "forest_pred = fo_fin.predict(x_test_ohe)"
   ]
  },
  {
   "cell_type": "code",
   "execution_count": 43,
   "metadata": {},
   "outputs": [
    {
     "name": "stdout",
     "output_type": "stream",
     "text": [
      "classification report {'0': {'precision': 0.7030193780982424, 'recall': 0.9678920428106096, 'f1-score': 0.8144619199895582, 'support': 6447}, '1': {'precision': 0.95132847401834, 'recall': 0.6055073331337922, 'f1-score': 0.7400091449474165, 'support': 6682}, 'accuracy': 0.7834564704090182, 'macro avg': {'precision': 0.8271739260582912, 'recall': 0.7866996879722009, 'f1-score': 0.7772355324684874, 'support': 13129}, 'weighted avg': {'precision': 0.8293962064125155, 'recall': 0.7834564704090182, 'f1-score': 0.776569205934292, 'support': 13129}}\n"
     ]
    },
    {
     "data": {
      "image/png": "[encoded data removed]",
      "text/plain": [
       "<Figure size 576x576 with 2 Axes>"
      ]
     },
     "metadata": {
      "needs_background": "light"
     },
     "output_type": "display_data"
    }
   ],
   "source": [
    "prediction_scores(y_test, forest_pred)"
   ]
  },
  {
   "cell_type": "markdown",
   "metadata": {},
   "source": [
    "and we get what we wanted. a model that gets more false negatives than false positives. players will prefer to be told they wil lose, and win, than told they will win and lose"
   ]
  },
  {
   "cell_type": "code",
   "execution_count": 45,
   "metadata": {
    "scrolled": true
   },
   "outputs": [
    {
     "data": {
      "text/html": [
       "<div>\n",
       "<style scoped>\n",
       "    .dataframe tbody tr th:only-of-type {\n",
       "        vertical-align: middle;\n",
       "    }\n",
       "\n",
       "    .dataframe tbody tr th {\n",
       "        vertical-align: top;\n",
       "    }\n",
       "\n",
       "    .dataframe thead th {\n",
       "        text-align: right;\n",
       "    }\n",
       "</style>\n",
       "<table border=\"1\" class=\"dataframe\">\n",
       "  <thead>\n",
       "    <tr style=\"text-align: right;\">\n",
       "      <th></th>\n",
       "      <th>platform_PC</th>\n",
       "      <th>platform_PS4</th>\n",
       "      <th>platform_XONE</th>\n",
       "      <th>gamemode_BOMB</th>\n",
       "      <th>mapname_BANK</th>\n",
       "      <th>mapname_BARTLETT_U.</th>\n",
       "      <th>mapname_BORDER</th>\n",
       "      <th>mapname_CHALET</th>\n",
       "      <th>mapname_CLUB_HOUSE</th>\n",
       "      <th>mapname_COASTLINE</th>\n",
       "      <th>mapname_CONSULATE</th>\n",
       "      <th>mapname_FAVELAS</th>\n",
       "      <th>mapname_HEREFORD_BASE</th>\n",
       "      <th>mapname_HOUSE</th>\n",
       "      <th>mapname_KAFE_DOSTOYEVSKY</th>\n",
       "      <th>mapname_KANAL</th>\n",
       "      <th>mapname_OREGON</th>\n",
       "      <th>mapname_PLANE</th>\n",
       "      <th>mapname_SKYSCRAPER</th>\n",
       "      <th>mapname_YACHT</th>\n",
       "      <th>roundnumber_1</th>\n",
       "      <th>roundnumber_2</th>\n",
       "      <th>roundnumber_3</th>\n",
       "      <th>roundnumber_4</th>\n",
       "      <th>roundnumber_5</th>\n",
       "      <th>roundnumber_6</th>\n",
       "      <th>roundnumber_7</th>\n",
       "      <th>roundnumber_8</th>\n",
       "      <th>roundnumber_9</th>\n",
       "      <th>objectivelocation_1F_BBQ-1F_KITCHEN</th>\n",
       "      <th>objectivelocation_1F_BEDROOM-1F_BATHROOM</th>\n",
       "      <th>objectivelocation_1F_BIKER'S_APARTMENT-1F_BIKER'S_BEDROOM</th>\n",
       "      <th>objectivelocation_1F_BLUE_BAR-1F_SUNRISE_BAR</th>\n",
       "      <th>objectivelocation_1F_KITCHEN-1F_SERVICE_ENTRANCE</th>\n",
       "      <th>objectivelocation_2F_AUNT'S_BEDROOM-1F_AUNT'S_APARTMENT</th>\n",
       "      <th>objectivelocation_2F_EXHIBITION-2F_WORK_OFFICE</th>\n",
       "      <th>objectivelocation_2F_FOOTBALL_BEDROOM-2F_FOOTBALL_OFFICE</th>\n",
       "      <th>objectivelocation_2F_HOOKAH_LOUNGE-2F_BILLIARDS_ROOM</th>\n",
       "      <th>objectivelocation_2F_KARAOKE-2F_TEA_ROOM</th>\n",
       "      <th>objectivelocation_2F_PENTHOUSE-2F_THEATER</th>\n",
       "      <th>objectivelocation_3F_PACKAGING_ROOM-2F_METH_LAB</th>\n",
       "      <th>objectivelocation_ARMORY_LOCKERS-ARCHIVES</th>\n",
       "      <th>objectivelocation_BAR-COCKTAIL_LOUNGE</th>\n",
       "      <th>objectivelocation_BAR-GAMING_ROOM</th>\n",
       "      <th>objectivelocation_BAR-STOCK_ROOM</th>\n",
       "      <th>objectivelocation_BATHROOM-TELLERS</th>\n",
       "      <th>objectivelocation_BRIEFING_ROOM-ARMORY</th>\n",
       "      <th>objectivelocation_CAFETERIA-STAFF_DORMITORY</th>\n",
       "      <th>objectivelocation_CARGO_HOLD-LUGGAGE_HOLD</th>\n",
       "      <th>objectivelocation_CCTV_ROOM-CASH_ROOM</th>\n",
       "      <th>objectivelocation_CHURCH-ARSENAL_ROOM</th>\n",
       "      <th>objectivelocation_CLASSROOM-LIBRARY</th>\n",
       "      <th>objectivelocation_COAST_GUARD_OFFICE-HOLDING_ROOM</th>\n",
       "      <th>objectivelocation_CONSUL_OFFICE-MEEETING_ROOM</th>\n",
       "      <th>objectivelocation_CUSTOMS_INSPECTIONS-SUPPLY_ROOM</th>\n",
       "      <th>objectivelocation_DINING_ROOM-KIDS_BEDROOM</th>\n",
       "      <th>objectivelocation_DUMMY_DEPOT-STORAGE</th>\n",
       "      <th>objectivelocation_EXECUTIVE_LOUNGE-CEO_OFFICE</th>\n",
       "      <th>objectivelocation_FIREPLACE_HALL-MINING_ROOM</th>\n",
       "      <th>objectivelocation_GARAGE-CAFETERIA</th>\n",
       "      <th>objectivelocation_GYM-BEDROOM</th>\n",
       "      <th>objectivelocation_KID'S_BEDROOM-WORKSHOP</th>\n",
       "      <th>objectivelocation_KIDS_DORMS-DORMS_MAIN_HALL</th>\n",
       "      <th>objectivelocation_KITCHEN-DINING_HALL</th>\n",
       "      <th>objectivelocation_KITCHEN-ENGINE_CONTROL</th>\n",
       "      <th>objectivelocation_KITCHEN-PIANO_ROOM</th>\n",
       "      <th>objectivelocation_KITCHEN-PROJECTOR_ROOM</th>\n",
       "      <th>objectivelocation_KITCHEN-TROPHY_ROOM</th>\n",
       "      <th>objectivelocation_KITCHEN_PREP-BAKERY</th>\n",
       "      <th>objectivelocation_LAUDRY_ROOM-SUPPLY_ROOM</th>\n",
       "      <th>objectivelocation_LIVING_ROOM-TRAINING_ROOM</th>\n",
       "      <th>objectivelocation_LOBBY-PRESS_ROOM</th>\n",
       "      <th>objectivelocation_LOCKERS-CCTV_ROOM</th>\n",
       "      <th>objectivelocation_MAPS_ROOM-COCKPIT</th>\n",
       "      <th>objectivelocation_MASTER_BEDROOM-OFFICE</th>\n",
       "      <th>objectivelocation_MEETING_ROOM-EXECUTIVE_OFFICE</th>\n",
       "      <th>objectivelocation_READING_ROOM-LIBRARY</th>\n",
       "      <th>objectivelocation_REAR_STAGE-WATCH_TOWER</th>\n",
       "      <th>objectivelocation_ROWING_MUSEUM-TROPHY_ROOM</th>\n",
       "      <th>objectivelocation_SERVER_ROOM-CONTROL_ROOM</th>\n",
       "      <th>objectivelocation_SERVER_ROOM-ENGINE_STORAGE</th>\n",
       "      <th>objectivelocation_STAFF_ROOM-OPEN_AREA</th>\n",
       "      <th>objectivelocation_STAFF_SECTION-EXECUTIVE_BEDROOM</th>\n",
       "      <th>objectivelocation_TELLERS'_OFFICE-ARCHIVES</th>\n",
       "      <th>objectivelocation_TRAINING_ROOM-GARAGE</th>\n",
       "      <th>objectivelocation_TV_ROOM-KITCHEN</th>\n",
       "      <th>objectivelocation_VENTILATION_ROOM-WORKSHOP</th>\n",
       "      <th>objectivelocation_WINE_CELLAR-SNOWMOBILE_GARAGE</th>\n",
       "      <th>winrole_Attacker</th>\n",
       "      <th>winrole_Defender</th>\n",
       "      <th>role_Attacker</th>\n",
       "      <th>role_Defender</th>\n",
       "      <th>team_0</th>\n",
       "      <th>team_1</th>\n",
       "      <th>operator_BOPE-CAPITAO</th>\n",
       "      <th>operator_BOPE-CAVEIRA</th>\n",
       "      <th>operator_G.E.O.-JACKAL</th>\n",
       "      <th>operator_G.E.O.-MIRA</th>\n",
       "      <th>operator_GIGN-DOC</th>\n",
       "      <th>operator_GIGN-MONTAGNE</th>\n",
       "      <th>operator_GIGN-RESERVE</th>\n",
       "      <th>operator_GIGN-ROOK</th>\n",
       "      <th>operator_GIGN-TWITCH</th>\n",
       "      <th>operator_GSG9-BANDIT</th>\n",
       "      <th>operator_GSG9-BLITZ</th>\n",
       "      <th>operator_GSG9-IQ</th>\n",
       "      <th>operator_GSG9-JAGER</th>\n",
       "      <th>operator_GSG9-RESERVE</th>\n",
       "      <th>operator_JTF2-BUCK</th>\n",
       "      <th>operator_JTF2-FROST</th>\n",
       "      <th>operator_NAVYSEAL-BLACKBEARD</th>\n",
       "      <th>operator_NAVYSEAL-VALKYRIE</th>\n",
       "      <th>operator_SAS-MUTE</th>\n",
       "      <th>operator_SAS-RESERVE</th>\n",
       "      <th>operator_SAS-SLEDGE</th>\n",
       "      <th>operator_SAS-SMOKE</th>\n",
       "      <th>operator_SAS-THATCHER</th>\n",
       "      <th>operator_SAT-ECHO</th>\n",
       "      <th>operator_SAT-HIBANA</th>\n",
       "      <th>operator_SPETSNAZ-FUZE</th>\n",
       "      <th>operator_SPETSNAZ-GLAZ</th>\n",
       "      <th>operator_SPETSNAZ-KAPKAN</th>\n",
       "      <th>operator_SPETSNAZ-RESERVE</th>\n",
       "      <th>operator_SPETSNAZ-TACHANKA</th>\n",
       "      <th>operator_SWAT-ASH</th>\n",
       "      <th>operator_SWAT-CASTLE</th>\n",
       "      <th>operator_SWAT-PULSE</th>\n",
       "      <th>operator_SWAT-RESERVE</th>\n",
       "      <th>operator_SWAT-THERMITE</th>\n",
       "      <th>nbkills_0</th>\n",
       "      <th>nbkills_1</th>\n",
       "      <th>nbkills_2</th>\n",
       "      <th>nbkills_3</th>\n",
       "      <th>nbkills_4</th>\n",
       "      <th>nbkills_5</th>\n",
       "      <th>isdead_0</th>\n",
       "      <th>isdead_1</th>\n",
       "      <th>primaryweapon_416-C_CARBINE</th>\n",
       "      <th>primaryweapon_552_COMMANDO</th>\n",
       "      <th>primaryweapon_556XI</th>\n",
       "      <th>primaryweapon_6P41</th>\n",
       "      <th>primaryweapon_9mm_C1</th>\n",
       "      <th>primaryweapon_9x19VSN</th>\n",
       "      <th>primaryweapon_AK-12</th>\n",
       "      <th>primaryweapon_AR33</th>\n",
       "      <th>primaryweapon_AUG_A2</th>\n",
       "      <th>primaryweapon_C7E</th>\n",
       "      <th>primaryweapon_C8-SFW</th>\n",
       "      <th>primaryweapon_CAMRS</th>\n",
       "      <th>primaryweapon_F2</th>\n",
       "      <th>primaryweapon_FMG-9</th>\n",
       "      <th>primaryweapon_G36C</th>\n",
       "      <th>primaryweapon_G8A1</th>\n",
       "      <th>primaryweapon_HK417</th>\n",
       "      <th>primaryweapon_ITA12L</th>\n",
       "      <th>primaryweapon_L85A2</th>\n",
       "      <th>primaryweapon_M1014</th>\n",
       "      <th>primaryweapon_M12</th>\n",
       "      <th>primaryweapon_M249</th>\n",
       "      <th>primaryweapon_M590A1</th>\n",
       "      <th>primaryweapon_M870</th>\n",
       "      <th>primaryweapon_MK17_CQB</th>\n",
       "      <th>primaryweapon_MP5</th>\n",
       "      <th>primaryweapon_MP5K</th>\n",
       "      <th>primaryweapon_MP5SD</th>\n",
       "      <th>primaryweapon_MP7</th>\n",
       "      <th>primaryweapon_MPX</th>\n",
       "      <th>primaryweapon_OTs-03</th>\n",
       "      <th>primaryweapon_P90</th>\n",
       "      <th>primaryweapon_PARA-308</th>\n",
       "      <th>primaryweapon_PDW9</th>\n",
       "      <th>primaryweapon_R4-C</th>\n",
       "      <th>primaryweapon_SASG-12</th>\n",
       "      <th>primaryweapon_SG-CQB</th>\n",
       "      <th>primaryweapon_SPAS-12</th>\n",
       "      <th>primaryweapon_SPAS-15</th>\n",
       "      <th>primaryweapon_SR-25</th>\n",
       "      <th>primaryweapon_SUPER_90</th>\n",
       "      <th>primaryweapon_Shield</th>\n",
       "      <th>primaryweapon_SuperNova</th>\n",
       "      <th>primaryweapon_TYPE-89</th>\n",
       "      <th>primaryweapon_UMP45</th>\n",
       "      <th>primaryweapon_VECTOR_.45_ACP</th>\n",
       "      <th>primaryweapontype_Assault_Rifles</th>\n",
       "      <th>primaryweapontype_Light_Machine_Guns</th>\n",
       "      <th>primaryweapontype_Marksman_Rifles</th>\n",
       "      <th>primaryweapontype_Shield</th>\n",
       "      <th>primaryweapontype_Shotguns</th>\n",
       "      <th>primaryweapontype_Submachine_Guns</th>\n",
       "      <th>primarysight_Acog</th>\n",
       "      <th>primarysight_EosHolo</th>\n",
       "      <th>primarysight_None</th>\n",
       "      <th>primarysight_RedDot</th>\n",
       "      <th>primarysight_Reflex</th>\n",
       "      <th>primarysight_Spectator</th>\n",
       "      <th>primarygrip_Angle</th>\n",
       "      <th>primarygrip_None</th>\n",
       "      <th>primarygrip_Spectator</th>\n",
       "      <th>primarygrip_Vertical</th>\n",
       "      <th>primaryunderbarrel_Laser</th>\n",
       "      <th>primaryunderbarrel_None</th>\n",
       "      <th>primaryunderbarrel_Spectator</th>\n",
       "      <th>primarybarrel_Compensator</th>\n",
       "      <th>primarybarrel_Flash</th>\n",
       "      <th>primarybarrel_HeavyBarrel</th>\n",
       "      <th>primarybarrel_MuzzleBrake</th>\n",
       "      <th>primarybarrel_None</th>\n",
       "      <th>primarybarrel_Spectator</th>\n",
       "      <th>primarybarrel_Suppressor</th>\n",
       "      <th>secondaryweapon_5.7_USG</th>\n",
       "      <th>secondaryweapon_BEARING_9</th>\n",
       "      <th>secondaryweapon_D-50</th>\n",
       "      <th>secondaryweapon_GSH-18</th>\n",
       "      <th>secondaryweapon_ITA12S</th>\n",
       "      <th>secondaryweapon_LFP586</th>\n",
       "      <th>secondaryweapon_M45_MEUSOC</th>\n",
       "      <th>secondaryweapon_MK1_9mm</th>\n",
       "      <th>secondaryweapon_P12</th>\n",
       "      <th>secondaryweapon_P226_MK_25</th>\n",
       "      <th>secondaryweapon_P229</th>\n",
       "      <th>secondaryweapon_P9</th>\n",
       "      <th>secondaryweapon_PMM</th>\n",
       "      <th>secondaryweapon_PRB92</th>\n",
       "      <th>secondaryweapon_SMG-11</th>\n",
       "      <th>secondaryweapon_USP40</th>\n",
       "      <th>secondaryweapontype_Pistols</th>\n",
       "      <th>secondaryweapontype_Shotguns</th>\n",
       "      <th>secondaryweapontype_Submachine_Guns</th>\n",
       "      <th>secondarysight_EosHolo</th>\n",
       "      <th>secondarysight_None</th>\n",
       "      <th>secondarysight_RedDot</th>\n",
       "      <th>secondarysight_Reflex</th>\n",
       "      <th>secondarysight_Spectator</th>\n",
       "      <th>secondarygrip_None</th>\n",
       "      <th>secondarygrip_Spectator</th>\n",
       "      <th>secondarygrip_Vertical</th>\n",
       "      <th>secondaryunderbarrel_(null)</th>\n",
       "      <th>secondaryunderbarrel_Laser</th>\n",
       "      <th>secondaryunderbarrel_None</th>\n",
       "      <th>secondaryunderbarrel_Spectator</th>\n",
       "      <th>secondarybarrel_Compensator</th>\n",
       "      <th>secondarybarrel_Flash</th>\n",
       "      <th>secondarybarrel_HeavyBarrel</th>\n",
       "      <th>secondarybarrel_MuzzleBrake</th>\n",
       "      <th>secondarybarrel_None</th>\n",
       "      <th>secondarybarrel_Spectator</th>\n",
       "      <th>secondarybarrel_Suppressor</th>\n",
       "      <th>secondarygadget_BARBED_WIRE</th>\n",
       "      <th>secondarygadget_BREACH_CHARGE</th>\n",
       "      <th>secondarygadget_CLAYMORE</th>\n",
       "      <th>secondarygadget_DEPLOYABLE_SHIELD</th>\n",
       "      <th>secondarygadget_FRAG_GRENADE</th>\n",
       "      <th>secondarygadget_IMPACT_GRENADE</th>\n",
       "      <th>secondarygadget_NITRO_CELL</th>\n",
       "      <th>secondarygadget_SMOKE_GRENADE</th>\n",
       "      <th>secondarygadget_STUN_GRENADE</th>\n",
       "    </tr>\n",
       "  </thead>\n",
       "  <tbody>\n",
       "    <tr>\n",
       "      <th>0</th>\n",
       "      <td>0.000692</td>\n",
       "      <td>0.000577</td>\n",
       "      <td>0.000787</td>\n",
       "      <td>0.0</td>\n",
       "      <td>0.000246</td>\n",
       "      <td>0.001111</td>\n",
       "      <td>0.000291</td>\n",
       "      <td>0.00019</td>\n",
       "      <td>0.000599</td>\n",
       "      <td>0.000154</td>\n",
       "      <td>0.000253</td>\n",
       "      <td>0.000312</td>\n",
       "      <td>0.000568</td>\n",
       "      <td>0.000211</td>\n",
       "      <td>0.000212</td>\n",
       "      <td>0.000315</td>\n",
       "      <td>0.000081</td>\n",
       "      <td>0.000244</td>\n",
       "      <td>0.000755</td>\n",
       "      <td>0.000352</td>\n",
       "      <td>0.003168</td>\n",
       "      <td>0.002149</td>\n",
       "      <td>0.001821</td>\n",
       "      <td>0.002913</td>\n",
       "      <td>0.000424</td>\n",
       "      <td>0.001196</td>\n",
       "      <td>0.000733</td>\n",
       "      <td>0.00048</td>\n",
       "      <td>0.000186</td>\n",
       "      <td>0.00016</td>\n",
       "      <td>0.00017</td>\n",
       "      <td>0.000123</td>\n",
       "      <td>0.000078</td>\n",
       "      <td>0.000208</td>\n",
       "      <td>0.000132</td>\n",
       "      <td>0.000476</td>\n",
       "      <td>0.000979</td>\n",
       "      <td>0.000143</td>\n",
       "      <td>0.000722</td>\n",
       "      <td>0.000431</td>\n",
       "      <td>0.000078</td>\n",
       "      <td>0.000712</td>\n",
       "      <td>0.000151</td>\n",
       "      <td>0.000681</td>\n",
       "      <td>0.001106</td>\n",
       "      <td>0.000094</td>\n",
       "      <td>0.000262</td>\n",
       "      <td>0.000461</td>\n",
       "      <td>0.000453</td>\n",
       "      <td>0.000184</td>\n",
       "      <td>0.000147</td>\n",
       "      <td>0.00045</td>\n",
       "      <td>0.000015</td>\n",
       "      <td>0.000344</td>\n",
       "      <td>0.000069</td>\n",
       "      <td>0.000329</td>\n",
       "      <td>0.000071</td>\n",
       "      <td>0.000254</td>\n",
       "      <td>0.000156</td>\n",
       "      <td>0.000214</td>\n",
       "      <td>0.000159</td>\n",
       "      <td>0.000218</td>\n",
       "      <td>0.000095</td>\n",
       "      <td>0.000291</td>\n",
       "      <td>0.000193</td>\n",
       "      <td>0.00015</td>\n",
       "      <td>0.000324</td>\n",
       "      <td>0.000335</td>\n",
       "      <td>0.00024</td>\n",
       "      <td>0.000487</td>\n",
       "      <td>0.000114</td>\n",
       "      <td>0.000079</td>\n",
       "      <td>0.000202</td>\n",
       "      <td>0.000148</td>\n",
       "      <td>0.000341</td>\n",
       "      <td>0.000263</td>\n",
       "      <td>0.000063</td>\n",
       "      <td>0.00018</td>\n",
       "      <td>0.00099</td>\n",
       "      <td>0.000097</td>\n",
       "      <td>0.000746</td>\n",
       "      <td>0.000131</td>\n",
       "      <td>0.000284</td>\n",
       "      <td>0.000219</td>\n",
       "      <td>0.000036</td>\n",
       "      <td>0.000057</td>\n",
       "      <td>0.000568</td>\n",
       "      <td>0.000257</td>\n",
       "      <td>0.043006</td>\n",
       "      <td>0.04563</td>\n",
       "      <td>0.028226</td>\n",
       "      <td>0.024578</td>\n",
       "      <td>0.002124</td>\n",
       "      <td>0.002977</td>\n",
       "      <td>0.000123</td>\n",
       "      <td>0.000108</td>\n",
       "      <td>0.000437</td>\n",
       "      <td>0.000982</td>\n",
       "      <td>0.001023</td>\n",
       "      <td>0.000151</td>\n",
       "      <td>0.000123</td>\n",
       "      <td>0.000736</td>\n",
       "      <td>0.000357</td>\n",
       "      <td>0.000414</td>\n",
       "      <td>0.000024</td>\n",
       "      <td>0.000065</td>\n",
       "      <td>0.001881</td>\n",
       "      <td>0.000177</td>\n",
       "      <td>0.000156</td>\n",
       "      <td>0.000266</td>\n",
       "      <td>0.000057</td>\n",
       "      <td>0.000636</td>\n",
       "      <td>0.000044</td>\n",
       "      <td>0.000312</td>\n",
       "      <td>0.000336</td>\n",
       "      <td>0.000201</td>\n",
       "      <td>0.000803</td>\n",
       "      <td>0.000177</td>\n",
       "      <td>0.001502</td>\n",
       "      <td>0.000944</td>\n",
       "      <td>0.000203</td>\n",
       "      <td>0.00013</td>\n",
       "      <td>0.000617</td>\n",
       "      <td>0.000089</td>\n",
       "      <td>0.000663</td>\n",
       "      <td>0.000129</td>\n",
       "      <td>0.000057</td>\n",
       "      <td>0.000033</td>\n",
       "      <td>0.00103</td>\n",
       "      <td>0.054155</td>\n",
       "      <td>0.007002</td>\n",
       "      <td>0.037035</td>\n",
       "      <td>0.034497</td>\n",
       "      <td>0.012826</td>\n",
       "      <td>0.001798</td>\n",
       "      <td>0.247139</td>\n",
       "      <td>0.311643</td>\n",
       "      <td>0.000613</td>\n",
       "      <td>0.000144</td>\n",
       "      <td>0.001035</td>\n",
       "      <td>0.000219</td>\n",
       "      <td>0.000369</td>\n",
       "      <td>0.000293</td>\n",
       "      <td>0.000526</td>\n",
       "      <td>0.000046</td>\n",
       "      <td>0.000176</td>\n",
       "      <td>0.000087</td>\n",
       "      <td>0.000244</td>\n",
       "      <td>0.000094</td>\n",
       "      <td>0.000694</td>\n",
       "      <td>0.000211</td>\n",
       "      <td>0.000323</td>\n",
       "      <td>0.000104</td>\n",
       "      <td>0.0</td>\n",
       "      <td>0.000251</td>\n",
       "      <td>0.000882</td>\n",
       "      <td>0.000165</td>\n",
       "      <td>0.000065</td>\n",
       "      <td>0.000065</td>\n",
       "      <td>0.000524</td>\n",
       "      <td>0.000127</td>\n",
       "      <td>0.000205</td>\n",
       "      <td>0.000523</td>\n",
       "      <td>0.000751</td>\n",
       "      <td>0.000554</td>\n",
       "      <td>0.000441</td>\n",
       "      <td>0.000482</td>\n",
       "      <td>0.000368</td>\n",
       "      <td>0.000577</td>\n",
       "      <td>0.000122</td>\n",
       "      <td>0.000036</td>\n",
       "      <td>0.000389</td>\n",
       "      <td>0.000081</td>\n",
       "      <td>0.000124</td>\n",
       "      <td>0.00005</td>\n",
       "      <td>0.000136</td>\n",
       "      <td>0.000056</td>\n",
       "      <td>0.000881</td>\n",
       "      <td>0.000283</td>\n",
       "      <td>0.000028</td>\n",
       "      <td>0.00187</td>\n",
       "      <td>0.000956</td>\n",
       "      <td>0.000038</td>\n",
       "      <td>0.004977</td>\n",
       "      <td>0.000385</td>\n",
       "      <td>0.00044</td>\n",
       "      <td>0.000296</td>\n",
       "      <td>0.000206</td>\n",
       "      <td>0.017666</td>\n",
       "      <td>0.001141</td>\n",
       "      <td>0.000319</td>\n",
       "      <td>0.000135</td>\n",
       "      <td>0.000303</td>\n",
       "      <td>0.001475</td>\n",
       "      <td>0.000042</td>\n",
       "      <td>0.0002</td>\n",
       "      <td>0.00035</td>\n",
       "      <td>0.000042</td>\n",
       "      <td>0.000627</td>\n",
       "      <td>0.00103</td>\n",
       "      <td>0.000598</td>\n",
       "      <td>0.000071</td>\n",
       "      <td>0.000537</td>\n",
       "      <td>0.000673</td>\n",
       "      <td>0.000085</td>\n",
       "      <td>0.000758</td>\n",
       "      <td>0.000392</td>\n",
       "      <td>0.00004</td>\n",
       "      <td>0.000097</td>\n",
       "      <td>0.000378</td>\n",
       "      <td>0.000399</td>\n",
       "      <td>0.000467</td>\n",
       "      <td>0.000284</td>\n",
       "      <td>0.000254</td>\n",
       "      <td>0.000321</td>\n",
       "      <td>0.00073</td>\n",
       "      <td>0.000364</td>\n",
       "      <td>0.001425</td>\n",
       "      <td>0.00025</td>\n",
       "      <td>0.000094</td>\n",
       "      <td>0.000818</td>\n",
       "      <td>0.000068</td>\n",
       "      <td>0.000183</td>\n",
       "      <td>0.000292</td>\n",
       "      <td>0.000063</td>\n",
       "      <td>0.000206</td>\n",
       "      <td>0.000459</td>\n",
       "      <td>0.000458</td>\n",
       "      <td>0.000973</td>\n",
       "      <td>0.000531</td>\n",
       "      <td>0.000167</td>\n",
       "      <td>0.000284</td>\n",
       "      <td>0.000348</td>\n",
       "      <td>0.000259</td>\n",
       "      <td>0.000092</td>\n",
       "      <td>0.000149</td>\n",
       "      <td>0.000147</td>\n",
       "      <td>0.000904</td>\n",
       "      <td>0.000769</td>\n",
       "      <td>0.000219</td>\n",
       "      <td>0.000238</td>\n",
       "      <td>0.000365</td>\n",
       "      <td>0.000064</td>\n",
       "      <td>0.000318</td>\n",
       "      <td>0.000478</td>\n",
       "      <td>0.000218</td>\n",
       "      <td>0.000187</td>\n",
       "      <td>0.008184</td>\n",
       "      <td>0.000997</td>\n",
       "      <td>0.005515</td>\n",
       "      <td>0.002249</td>\n",
       "      <td>0.001766</td>\n",
       "      <td>0.002162</td>\n",
       "      <td>0.006985</td>\n",
       "      <td>0.001821</td>\n",
       "      <td>0.001243</td>\n",
       "    </tr>\n",
       "  </tbody>\n",
       "</table>\n",
       "</div>"
      ],
      "text/plain": [
       "   platform_PC  platform_PS4  platform_XONE  gamemode_BOMB  mapname_BANK  \\\n",
       "0     0.000692      0.000577       0.000787            0.0      0.000246   \n",
       "\n",
       "   mapname_BARTLETT_U.  mapname_BORDER  mapname_CHALET  mapname_CLUB_HOUSE  \\\n",
       "0             0.001111        0.000291         0.00019            0.000599   \n",
       "\n",
       "   mapname_COASTLINE  mapname_CONSULATE  mapname_FAVELAS  \\\n",
       "0           0.000154           0.000253         0.000312   \n",
       "\n",
       "   mapname_HEREFORD_BASE  mapname_HOUSE  mapname_KAFE_DOSTOYEVSKY  \\\n",
       "0               0.000568       0.000211                  0.000212   \n",
       "\n",
       "   mapname_KANAL  mapname_OREGON  mapname_PLANE  mapname_SKYSCRAPER  \\\n",
       "0       0.000315        0.000081       0.000244            0.000755   \n",
       "\n",
       "   mapname_YACHT  roundnumber_1  roundnumber_2  roundnumber_3  roundnumber_4  \\\n",
       "0       0.000352       0.003168       0.002149       0.001821       0.002913   \n",
       "\n",
       "   roundnumber_5  roundnumber_6  roundnumber_7  roundnumber_8  roundnumber_9  \\\n",
       "0       0.000424       0.001196       0.000733        0.00048       0.000186   \n",
       "\n",
       "   objectivelocation_1F_BBQ-1F_KITCHEN  \\\n",
       "0                              0.00016   \n",
       "\n",
       "   objectivelocation_1F_BEDROOM-1F_BATHROOM  \\\n",
       "0                                   0.00017   \n",
       "\n",
       "   objectivelocation_1F_BIKER'S_APARTMENT-1F_BIKER'S_BEDROOM  \\\n",
       "0                                           0.000123           \n",
       "\n",
       "   objectivelocation_1F_BLUE_BAR-1F_SUNRISE_BAR  \\\n",
       "0                                      0.000078   \n",
       "\n",
       "   objectivelocation_1F_KITCHEN-1F_SERVICE_ENTRANCE  \\\n",
       "0                                          0.000208   \n",
       "\n",
       "   objectivelocation_2F_AUNT'S_BEDROOM-1F_AUNT'S_APARTMENT  \\\n",
       "0                                           0.000132         \n",
       "\n",
       "   objectivelocation_2F_EXHIBITION-2F_WORK_OFFICE  \\\n",
       "0                                        0.000476   \n",
       "\n",
       "   objectivelocation_2F_FOOTBALL_BEDROOM-2F_FOOTBALL_OFFICE  \\\n",
       "0                                           0.000979          \n",
       "\n",
       "   objectivelocation_2F_HOOKAH_LOUNGE-2F_BILLIARDS_ROOM  \\\n",
       "0                                           0.000143      \n",
       "\n",
       "   objectivelocation_2F_KARAOKE-2F_TEA_ROOM  \\\n",
       "0                                  0.000722   \n",
       "\n",
       "   objectivelocation_2F_PENTHOUSE-2F_THEATER  \\\n",
       "0                                   0.000431   \n",
       "\n",
       "   objectivelocation_3F_PACKAGING_ROOM-2F_METH_LAB  \\\n",
       "0                                         0.000078   \n",
       "\n",
       "   objectivelocation_ARMORY_LOCKERS-ARCHIVES  \\\n",
       "0                                   0.000712   \n",
       "\n",
       "   objectivelocation_BAR-COCKTAIL_LOUNGE  objectivelocation_BAR-GAMING_ROOM  \\\n",
       "0                               0.000151                           0.000681   \n",
       "\n",
       "   objectivelocation_BAR-STOCK_ROOM  objectivelocation_BATHROOM-TELLERS  \\\n",
       "0                          0.001106                            0.000094   \n",
       "\n",
       "   objectivelocation_BRIEFING_ROOM-ARMORY  \\\n",
       "0                                0.000262   \n",
       "\n",
       "   objectivelocation_CAFETERIA-STAFF_DORMITORY  \\\n",
       "0                                     0.000461   \n",
       "\n",
       "   objectivelocation_CARGO_HOLD-LUGGAGE_HOLD  \\\n",
       "0                                   0.000453   \n",
       "\n",
       "   objectivelocation_CCTV_ROOM-CASH_ROOM  \\\n",
       "0                               0.000184   \n",
       "\n",
       "   objectivelocation_CHURCH-ARSENAL_ROOM  objectivelocation_CLASSROOM-LIBRARY  \\\n",
       "0                               0.000147                              0.00045   \n",
       "\n",
       "   objectivelocation_COAST_GUARD_OFFICE-HOLDING_ROOM  \\\n",
       "0                                           0.000015   \n",
       "\n",
       "   objectivelocation_CONSUL_OFFICE-MEEETING_ROOM  \\\n",
       "0                                       0.000344   \n",
       "\n",
       "   objectivelocation_CUSTOMS_INSPECTIONS-SUPPLY_ROOM  \\\n",
       "0                                           0.000069   \n",
       "\n",
       "   objectivelocation_DINING_ROOM-KIDS_BEDROOM  \\\n",
       "0                                    0.000329   \n",
       "\n",
       "   objectivelocation_DUMMY_DEPOT-STORAGE  \\\n",
       "0                               0.000071   \n",
       "\n",
       "   objectivelocation_EXECUTIVE_LOUNGE-CEO_OFFICE  \\\n",
       "0                                       0.000254   \n",
       "\n",
       "   objectivelocation_FIREPLACE_HALL-MINING_ROOM  \\\n",
       "0                                      0.000156   \n",
       "\n",
       "   objectivelocation_GARAGE-CAFETERIA  objectivelocation_GYM-BEDROOM  \\\n",
       "0                            0.000214                       0.000159   \n",
       "\n",
       "   objectivelocation_KID'S_BEDROOM-WORKSHOP  \\\n",
       "0                                  0.000218   \n",
       "\n",
       "   objectivelocation_KIDS_DORMS-DORMS_MAIN_HALL  \\\n",
       "0                                      0.000095   \n",
       "\n",
       "   objectivelocation_KITCHEN-DINING_HALL  \\\n",
       "0                               0.000291   \n",
       "\n",
       "   objectivelocation_KITCHEN-ENGINE_CONTROL  \\\n",
       "0                                  0.000193   \n",
       "\n",
       "   objectivelocation_KITCHEN-PIANO_ROOM  \\\n",
       "0                               0.00015   \n",
       "\n",
       "   objectivelocation_KITCHEN-PROJECTOR_ROOM  \\\n",
       "0                                  0.000324   \n",
       "\n",
       "   objectivelocation_KITCHEN-TROPHY_ROOM  \\\n",
       "0                               0.000335   \n",
       "\n",
       "   objectivelocation_KITCHEN_PREP-BAKERY  \\\n",
       "0                                0.00024   \n",
       "\n",
       "   objectivelocation_LAUDRY_ROOM-SUPPLY_ROOM  \\\n",
       "0                                   0.000487   \n",
       "\n",
       "   objectivelocation_LIVING_ROOM-TRAINING_ROOM  \\\n",
       "0                                     0.000114   \n",
       "\n",
       "   objectivelocation_LOBBY-PRESS_ROOM  objectivelocation_LOCKERS-CCTV_ROOM  \\\n",
       "0                            0.000079                             0.000202   \n",
       "\n",
       "   objectivelocation_MAPS_ROOM-COCKPIT  \\\n",
       "0                             0.000148   \n",
       "\n",
       "   objectivelocation_MASTER_BEDROOM-OFFICE  \\\n",
       "0                                 0.000341   \n",
       "\n",
       "   objectivelocation_MEETING_ROOM-EXECUTIVE_OFFICE  \\\n",
       "0                                         0.000263   \n",
       "\n",
       "   objectivelocation_READING_ROOM-LIBRARY  \\\n",
       "0                                0.000063   \n",
       "\n",
       "   objectivelocation_REAR_STAGE-WATCH_TOWER  \\\n",
       "0                                   0.00018   \n",
       "\n",
       "   objectivelocation_ROWING_MUSEUM-TROPHY_ROOM  \\\n",
       "0                                      0.00099   \n",
       "\n",
       "   objectivelocation_SERVER_ROOM-CONTROL_ROOM  \\\n",
       "0                                    0.000097   \n",
       "\n",
       "   objectivelocation_SERVER_ROOM-ENGINE_STORAGE  \\\n",
       "0                                      0.000746   \n",
       "\n",
       "   objectivelocation_STAFF_ROOM-OPEN_AREA  \\\n",
       "0                                0.000131   \n",
       "\n",
       "   objectivelocation_STAFF_SECTION-EXECUTIVE_BEDROOM  \\\n",
       "0                                           0.000284   \n",
       "\n",
       "   objectivelocation_TELLERS'_OFFICE-ARCHIVES  \\\n",
       "0                                    0.000219   \n",
       "\n",
       "   objectivelocation_TRAINING_ROOM-GARAGE  objectivelocation_TV_ROOM-KITCHEN  \\\n",
       "0                                0.000036                           0.000057   \n",
       "\n",
       "   objectivelocation_VENTILATION_ROOM-WORKSHOP  \\\n",
       "0                                     0.000568   \n",
       "\n",
       "   objectivelocation_WINE_CELLAR-SNOWMOBILE_GARAGE  winrole_Attacker  \\\n",
       "0                                         0.000257          0.043006   \n",
       "\n",
       "   winrole_Defender  role_Attacker  role_Defender    team_0    team_1  \\\n",
       "0           0.04563       0.028226       0.024578  0.002124  0.002977   \n",
       "\n",
       "   operator_BOPE-CAPITAO  operator_BOPE-CAVEIRA  operator_G.E.O.-JACKAL  \\\n",
       "0               0.000123               0.000108                0.000437   \n",
       "\n",
       "   operator_G.E.O.-MIRA  operator_GIGN-DOC  operator_GIGN-MONTAGNE  \\\n",
       "0              0.000982           0.001023                0.000151   \n",
       "\n",
       "   operator_GIGN-RESERVE  operator_GIGN-ROOK  operator_GIGN-TWITCH  \\\n",
       "0               0.000123            0.000736              0.000357   \n",
       "\n",
       "   operator_GSG9-BANDIT  operator_GSG9-BLITZ  operator_GSG9-IQ  \\\n",
       "0              0.000414             0.000024          0.000065   \n",
       "\n",
       "   operator_GSG9-JAGER  operator_GSG9-RESERVE  operator_JTF2-BUCK  \\\n",
       "0             0.001881               0.000177            0.000156   \n",
       "\n",
       "   operator_JTF2-FROST  operator_NAVYSEAL-BLACKBEARD  \\\n",
       "0             0.000266                      0.000057   \n",
       "\n",
       "   operator_NAVYSEAL-VALKYRIE  operator_SAS-MUTE  operator_SAS-RESERVE  \\\n",
       "0                    0.000636           0.000044              0.000312   \n",
       "\n",
       "   operator_SAS-SLEDGE  operator_SAS-SMOKE  operator_SAS-THATCHER  \\\n",
       "0             0.000336            0.000201               0.000803   \n",
       "\n",
       "   operator_SAT-ECHO  operator_SAT-HIBANA  operator_SPETSNAZ-FUZE  \\\n",
       "0           0.000177             0.001502                0.000944   \n",
       "\n",
       "   operator_SPETSNAZ-GLAZ  operator_SPETSNAZ-KAPKAN  \\\n",
       "0                0.000203                   0.00013   \n",
       "\n",
       "   operator_SPETSNAZ-RESERVE  operator_SPETSNAZ-TACHANKA  operator_SWAT-ASH  \\\n",
       "0                   0.000617                    0.000089           0.000663   \n",
       "\n",
       "   operator_SWAT-CASTLE  operator_SWAT-PULSE  operator_SWAT-RESERVE  \\\n",
       "0              0.000129             0.000057               0.000033   \n",
       "\n",
       "   operator_SWAT-THERMITE  nbkills_0  nbkills_1  nbkills_2  nbkills_3  \\\n",
       "0                 0.00103   0.054155   0.007002   0.037035   0.034497   \n",
       "\n",
       "   nbkills_4  nbkills_5  isdead_0  isdead_1  primaryweapon_416-C_CARBINE  \\\n",
       "0   0.012826   0.001798  0.247139  0.311643                     0.000613   \n",
       "\n",
       "   primaryweapon_552_COMMANDO  primaryweapon_556XI  primaryweapon_6P41  \\\n",
       "0                    0.000144             0.001035            0.000219   \n",
       "\n",
       "   primaryweapon_9mm_C1  primaryweapon_9x19VSN  primaryweapon_AK-12  \\\n",
       "0              0.000369               0.000293             0.000526   \n",
       "\n",
       "   primaryweapon_AR33  primaryweapon_AUG_A2  primaryweapon_C7E  \\\n",
       "0            0.000046              0.000176           0.000087   \n",
       "\n",
       "   primaryweapon_C8-SFW  primaryweapon_CAMRS  primaryweapon_F2  \\\n",
       "0              0.000244             0.000094          0.000694   \n",
       "\n",
       "   primaryweapon_FMG-9  primaryweapon_G36C  primaryweapon_G8A1  \\\n",
       "0             0.000211            0.000323            0.000104   \n",
       "\n",
       "   primaryweapon_HK417  primaryweapon_ITA12L  primaryweapon_L85A2  \\\n",
       "0                  0.0              0.000251             0.000882   \n",
       "\n",
       "   primaryweapon_M1014  primaryweapon_M12  primaryweapon_M249  \\\n",
       "0             0.000165           0.000065            0.000065   \n",
       "\n",
       "   primaryweapon_M590A1  primaryweapon_M870  primaryweapon_MK17_CQB  \\\n",
       "0              0.000524            0.000127                0.000205   \n",
       "\n",
       "   primaryweapon_MP5  primaryweapon_MP5K  primaryweapon_MP5SD  \\\n",
       "0           0.000523            0.000751             0.000554   \n",
       "\n",
       "   primaryweapon_MP7  primaryweapon_MPX  primaryweapon_OTs-03  \\\n",
       "0           0.000441           0.000482              0.000368   \n",
       "\n",
       "   primaryweapon_P90  primaryweapon_PARA-308  primaryweapon_PDW9  \\\n",
       "0           0.000577                0.000122            0.000036   \n",
       "\n",
       "   primaryweapon_R4-C  primaryweapon_SASG-12  primaryweapon_SG-CQB  \\\n",
       "0            0.000389               0.000081              0.000124   \n",
       "\n",
       "   primaryweapon_SPAS-12  primaryweapon_SPAS-15  primaryweapon_SR-25  \\\n",
       "0                0.00005               0.000136             0.000056   \n",
       "\n",
       "   primaryweapon_SUPER_90  primaryweapon_Shield  primaryweapon_SuperNova  \\\n",
       "0                0.000881              0.000283                 0.000028   \n",
       "\n",
       "   primaryweapon_TYPE-89  primaryweapon_UMP45  primaryweapon_VECTOR_.45_ACP  \\\n",
       "0                0.00187             0.000956                      0.000038   \n",
       "\n",
       "   primaryweapontype_Assault_Rifles  primaryweapontype_Light_Machine_Guns  \\\n",
       "0                          0.004977                              0.000385   \n",
       "\n",
       "   primaryweapontype_Marksman_Rifles  primaryweapontype_Shield  \\\n",
       "0                            0.00044                  0.000296   \n",
       "\n",
       "   primaryweapontype_Shotguns  primaryweapontype_Submachine_Guns  \\\n",
       "0                    0.000206                           0.017666   \n",
       "\n",
       "   primarysight_Acog  primarysight_EosHolo  primarysight_None  \\\n",
       "0           0.001141              0.000319           0.000135   \n",
       "\n",
       "   primarysight_RedDot  primarysight_Reflex  primarysight_Spectator  \\\n",
       "0             0.000303             0.001475                0.000042   \n",
       "\n",
       "   primarygrip_Angle  primarygrip_None  primarygrip_Spectator  \\\n",
       "0             0.0002           0.00035               0.000042   \n",
       "\n",
       "   primarygrip_Vertical  primaryunderbarrel_Laser  primaryunderbarrel_None  \\\n",
       "0              0.000627                   0.00103                 0.000598   \n",
       "\n",
       "   primaryunderbarrel_Spectator  primarybarrel_Compensator  \\\n",
       "0                      0.000071                   0.000537   \n",
       "\n",
       "   primarybarrel_Flash  primarybarrel_HeavyBarrel  primarybarrel_MuzzleBrake  \\\n",
       "0             0.000673                   0.000085                   0.000758   \n",
       "\n",
       "   primarybarrel_None  primarybarrel_Spectator  primarybarrel_Suppressor  \\\n",
       "0            0.000392                  0.00004                  0.000097   \n",
       "\n",
       "   secondaryweapon_5.7_USG  secondaryweapon_BEARING_9  secondaryweapon_D-50  \\\n",
       "0                 0.000378                   0.000399              0.000467   \n",
       "\n",
       "   secondaryweapon_GSH-18  secondaryweapon_ITA12S  secondaryweapon_LFP586  \\\n",
       "0                0.000284                0.000254                0.000321   \n",
       "\n",
       "   secondaryweapon_M45_MEUSOC  secondaryweapon_MK1_9mm  secondaryweapon_P12  \\\n",
       "0                     0.00073                 0.000364             0.001425   \n",
       "\n",
       "   secondaryweapon_P226_MK_25  secondaryweapon_P229  secondaryweapon_P9  \\\n",
       "0                     0.00025              0.000094            0.000818   \n",
       "\n",
       "   secondaryweapon_PMM  secondaryweapon_PRB92  secondaryweapon_SMG-11  \\\n",
       "0             0.000068               0.000183                0.000292   \n",
       "\n",
       "   secondaryweapon_USP40  secondaryweapontype_Pistols  \\\n",
       "0               0.000063                     0.000206   \n",
       "\n",
       "   secondaryweapontype_Shotguns  secondaryweapontype_Submachine_Guns  \\\n",
       "0                      0.000459                             0.000458   \n",
       "\n",
       "   secondarysight_EosHolo  secondarysight_None  secondarysight_RedDot  \\\n",
       "0                0.000973             0.000531               0.000167   \n",
       "\n",
       "   secondarysight_Reflex  secondarysight_Spectator  secondarygrip_None  \\\n",
       "0               0.000284                  0.000348            0.000259   \n",
       "\n",
       "   secondarygrip_Spectator  secondarygrip_Vertical  \\\n",
       "0                 0.000092                0.000149   \n",
       "\n",
       "   secondaryunderbarrel_(null)  secondaryunderbarrel_Laser  \\\n",
       "0                     0.000147                    0.000904   \n",
       "\n",
       "   secondaryunderbarrel_None  secondaryunderbarrel_Spectator  \\\n",
       "0                   0.000769                        0.000219   \n",
       "\n",
       "   secondarybarrel_Compensator  secondarybarrel_Flash  \\\n",
       "0                     0.000238               0.000365   \n",
       "\n",
       "   secondarybarrel_HeavyBarrel  secondarybarrel_MuzzleBrake  \\\n",
       "0                     0.000064                     0.000318   \n",
       "\n",
       "   secondarybarrel_None  secondarybarrel_Spectator  \\\n",
       "0              0.000478                   0.000218   \n",
       "\n",
       "   secondarybarrel_Suppressor  secondarygadget_BARBED_WIRE  \\\n",
       "0                    0.000187                     0.008184   \n",
       "\n",
       "   secondarygadget_BREACH_CHARGE  secondarygadget_CLAYMORE  \\\n",
       "0                       0.000997                  0.005515   \n",
       "\n",
       "   secondarygadget_DEPLOYABLE_SHIELD  secondarygadget_FRAG_GRENADE  \\\n",
       "0                           0.002249                      0.001766   \n",
       "\n",
       "   secondarygadget_IMPACT_GRENADE  secondarygadget_NITRO_CELL  \\\n",
       "0                        0.002162                    0.006985   \n",
       "\n",
       "   secondarygadget_SMOKE_GRENADE  secondarygadget_STUN_GRENADE  \n",
       "0                       0.001821                      0.001243  "
      ]
     },
     "execution_count": 45,
     "metadata": {},
     "output_type": "execute_result"
    }
   ],
   "source": [
    "# make a dataframe to get data for a bar chart, for my presentation\n",
    "display_df = pd.DataFrame(data=[final_forest.feature_importances_ ], columns=ohe_train.columns.values)\n",
    "display_df.head(15)"
   ]
  },
  {
   "cell_type": "markdown",
   "metadata": {},
   "source": [
    "let's see which features are most important"
   ]
  },
  {
   "cell_type": "code",
   "execution_count": 53,
   "metadata": {},
   "outputs": [
    {
     "data": {
      "text/html": [
       "<div>\n",
       "<style scoped>\n",
       "    .dataframe tbody tr th:only-of-type {\n",
       "        vertical-align: middle;\n",
       "    }\n",
       "\n",
       "    .dataframe tbody tr th {\n",
       "        vertical-align: top;\n",
       "    }\n",
       "\n",
       "    .dataframe thead th {\n",
       "        text-align: right;\n",
       "    }\n",
       "</style>\n",
       "<table border=\"1\" class=\"dataframe\">\n",
       "  <thead>\n",
       "    <tr style=\"text-align: right;\">\n",
       "      <th></th>\n",
       "      <th>winrole_Attacker</th>\n",
       "      <th>winrole_Defender</th>\n",
       "      <th>role_Attacker</th>\n",
       "      <th>role_Defender</th>\n",
       "      <th>nbkills_0</th>\n",
       "      <th>nbkills_2</th>\n",
       "      <th>nbkills_3</th>\n",
       "      <th>nbkills_4</th>\n",
       "      <th>isdead_0</th>\n",
       "      <th>isdead_1</th>\n",
       "      <th>primaryweapontype_Submachine_Guns</th>\n",
       "    </tr>\n",
       "  </thead>\n",
       "  <tbody>\n",
       "    <tr>\n",
       "      <th>0</th>\n",
       "      <td>0.043006</td>\n",
       "      <td>0.04563</td>\n",
       "      <td>0.028226</td>\n",
       "      <td>0.024578</td>\n",
       "      <td>0.054155</td>\n",
       "      <td>0.037035</td>\n",
       "      <td>0.034497</td>\n",
       "      <td>0.012826</td>\n",
       "      <td>0.247139</td>\n",
       "      <td>0.311643</td>\n",
       "      <td>0.017666</td>\n",
       "    </tr>\n",
       "  </tbody>\n",
       "</table>\n",
       "</div>"
      ],
      "text/plain": [
       "   winrole_Attacker  winrole_Defender  role_Attacker  role_Defender  \\\n",
       "0          0.043006           0.04563       0.028226       0.024578   \n",
       "\n",
       "   nbkills_0  nbkills_2  nbkills_3  nbkills_4  isdead_0  isdead_1  \\\n",
       "0   0.054155   0.037035   0.034497   0.012826  0.247139  0.311643   \n",
       "\n",
       "   primaryweapontype_Submachine_Guns  \n",
       "0                           0.017666  "
      ]
     },
     "execution_count": 53,
     "metadata": {},
     "output_type": "execute_result"
    }
   ],
   "source": [
    "# take the most useful columns to display\n",
    "actually_useful = display_df.loc[:, (display_df.iloc[-1] > 0.01)]\n",
    "\n",
    "actually_useful"
   ]
  },
  {
   "cell_type": "code",
   "execution_count": 61,
   "metadata": {
    "scrolled": true
   },
   "outputs": [
    {
     "data": {
      "text/plain": [
       "<AxesSubplot:>"
      ]
     },
     "execution_count": 61,
     "metadata": {},
     "output_type": "execute_result"
    },
    {
     "data": {
      "image/png": "[encoded data removed]",
      "text/plain": [
       "<Figure size 720x720 with 1 Axes>"
      ]
     },
     "metadata": {
      "needs_background": "light"
     },
     "output_type": "display_data"
    }
   ],
   "source": [
    "# make a barplot of the useful features\n",
    "plt.figure(figsize=(10, 10))\n",
    "plt.xticks(rotation=45)\n",
    "sns.barplot(data=actually_useful, palette=\"dark:#5A9_r\")"
   ]
  }
 ],
 "metadata": {
  "kernelspec": {
   "display_name": "Python 3 (ipykernel)",
   "language": "python",
   "name": "python3"
  },
  "language_info": {
   "codemirror_mode": {
    "name": "ipython",
    "version": 3
   },
   "file_extension": ".py",
   "mimetype": "text/x-python",
   "name": "python",
   "nbconvert_exporter": "python",
   "pygments_lexer": "ipython3",
   "version": "3.9.7"
  },
  "vscode": {
   "interpreter": {
    "hash": "986ac9e0a4777a0a5b3921631c88e710940b609aa29595fc47fc1b0b989c50b9"
   }
  }
 },
 "nbformat": 4,
 "nbformat_minor": 2
}
